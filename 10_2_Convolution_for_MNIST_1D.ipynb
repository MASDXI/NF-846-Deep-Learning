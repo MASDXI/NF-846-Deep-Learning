{
  "nbformat": 4,
  "nbformat_minor": 0,
  "metadata": {
    "colab": {
      "provenance": [],
      "include_colab_link": true
    },
    "kernelspec": {
      "name": "python3",
      "display_name": "Python 3"
    },
    "language_info": {
      "name": "python"
    }
  },
  "cells": [
    {
      "cell_type": "markdown",
      "metadata": {
        "id": "view-in-github",
        "colab_type": "text"
      },
      "source": [
        "<a href=\"https://colab.research.google.com/github/MASDXI/NF-846-Deep-Learning/blob/main/10_2_Convolution_for_MNIST_1D.ipynb\" target=\"_parent\"><img src=\"https://colab.research.google.com/assets/colab-badge.svg\" alt=\"Open In Colab\"/></a>"
      ]
    },
    {
      "cell_type": "markdown",
      "source": [
        "# **Notebook 10.2: Convolution for MNIST-1D**\n",
        "\n",
        "This notebook investigates a 1D convolutional network for MNIST-1D as in figure 10.7 and 10.8a.\n",
        "\n",
        "Work through the cells below, running each cell in turn. In various places you will see the words \"TODO\". Follow the instructions at these places and make predictions about what is going to happen or write code to complete the functions.\n",
        "\n",
        "Contact me at udlbookmail@gmail.com if you find any mistakes or have any suggestions.\n",
        "\n"
      ],
      "metadata": {
        "id": "t9vk9Elugvmi"
      }
    },
    {
      "cell_type": "code",
      "source": [
        "# Run this if you're in a Colab to install MNIST 1D repository\n",
        "!pip install git+https://github.com/greydanus/mnist1d"
      ],
      "metadata": {
        "id": "D5yLObtZCi9J",
        "colab": {
          "base_uri": "https://localhost:8080/"
        },
        "outputId": "25eae3c8-a78d-4f5e-9d24-946eedc4ff0e"
      },
      "execution_count": 1,
      "outputs": [
        {
          "output_type": "stream",
          "name": "stdout",
          "text": [
            "Collecting git+https://github.com/greydanus/mnist1d\n",
            "  Cloning https://github.com/greydanus/mnist1d to /tmp/pip-req-build-0viyzqkl\n",
            "  Running command git clone --filter=blob:none --quiet https://github.com/greydanus/mnist1d /tmp/pip-req-build-0viyzqkl\n",
            "  Resolved https://github.com/greydanus/mnist1d to commit 7878d96082abd200c546a07a4101fa90b30fdf7e\n",
            "  Installing build dependencies ... \u001b[?25l\u001b[?25hdone\n",
            "  Getting requirements to build wheel ... \u001b[?25l\u001b[?25hdone\n",
            "  Preparing metadata (pyproject.toml) ... \u001b[?25l\u001b[?25hdone\n",
            "Requirement already satisfied: requests in /usr/local/lib/python3.11/dist-packages (from mnist1d==0.0.2.post16) (2.32.3)\n",
            "Requirement already satisfied: numpy in /usr/local/lib/python3.11/dist-packages (from mnist1d==0.0.2.post16) (2.0.2)\n",
            "Requirement already satisfied: matplotlib in /usr/local/lib/python3.11/dist-packages (from mnist1d==0.0.2.post16) (3.10.0)\n",
            "Requirement already satisfied: scipy in /usr/local/lib/python3.11/dist-packages (from mnist1d==0.0.2.post16) (1.15.3)\n",
            "Requirement already satisfied: contourpy>=1.0.1 in /usr/local/lib/python3.11/dist-packages (from matplotlib->mnist1d==0.0.2.post16) (1.3.2)\n",
            "Requirement already satisfied: cycler>=0.10 in /usr/local/lib/python3.11/dist-packages (from matplotlib->mnist1d==0.0.2.post16) (0.12.1)\n",
            "Requirement already satisfied: fonttools>=4.22.0 in /usr/local/lib/python3.11/dist-packages (from matplotlib->mnist1d==0.0.2.post16) (4.58.4)\n",
            "Requirement already satisfied: kiwisolver>=1.3.1 in /usr/local/lib/python3.11/dist-packages (from matplotlib->mnist1d==0.0.2.post16) (1.4.8)\n",
            "Requirement already satisfied: packaging>=20.0 in /usr/local/lib/python3.11/dist-packages (from matplotlib->mnist1d==0.0.2.post16) (24.2)\n",
            "Requirement already satisfied: pillow>=8 in /usr/local/lib/python3.11/dist-packages (from matplotlib->mnist1d==0.0.2.post16) (11.2.1)\n",
            "Requirement already satisfied: pyparsing>=2.3.1 in /usr/local/lib/python3.11/dist-packages (from matplotlib->mnist1d==0.0.2.post16) (3.2.3)\n",
            "Requirement already satisfied: python-dateutil>=2.7 in /usr/local/lib/python3.11/dist-packages (from matplotlib->mnist1d==0.0.2.post16) (2.9.0.post0)\n",
            "Requirement already satisfied: charset-normalizer<4,>=2 in /usr/local/lib/python3.11/dist-packages (from requests->mnist1d==0.0.2.post16) (3.4.2)\n",
            "Requirement already satisfied: idna<4,>=2.5 in /usr/local/lib/python3.11/dist-packages (from requests->mnist1d==0.0.2.post16) (3.10)\n",
            "Requirement already satisfied: urllib3<3,>=1.21.1 in /usr/local/lib/python3.11/dist-packages (from requests->mnist1d==0.0.2.post16) (2.4.0)\n",
            "Requirement already satisfied: certifi>=2017.4.17 in /usr/local/lib/python3.11/dist-packages (from requests->mnist1d==0.0.2.post16) (2025.6.15)\n",
            "Requirement already satisfied: six>=1.5 in /usr/local/lib/python3.11/dist-packages (from python-dateutil>=2.7->matplotlib->mnist1d==0.0.2.post16) (1.17.0)\n",
            "Building wheels for collected packages: mnist1d\n",
            "  Building wheel for mnist1d (pyproject.toml) ... \u001b[?25l\u001b[?25hdone\n",
            "  Created wheel for mnist1d: filename=mnist1d-0.0.2.post16-py3-none-any.whl size=14665 sha256=5be5de9379479fb06318e201224617a33237d61100d564d30ab192e1fba25f3f\n",
            "  Stored in directory: /tmp/pip-ephem-wheel-cache-6n2goqan/wheels/d6/38/42/3d2112bc7d915f6195254ac85eb761d922d1b18f52817aa8e2\n",
            "Successfully built mnist1d\n",
            "Installing collected packages: mnist1d\n",
            "Successfully installed mnist1d-0.0.2.post16\n"
          ]
        }
      ]
    },
    {
      "cell_type": "code",
      "source": [
        "import numpy as np\n",
        "import os\n",
        "import torch, torch.nn as nn\n",
        "from torch.utils.data import TensorDataset, DataLoader\n",
        "from torch.optim.lr_scheduler import StepLR\n",
        "import matplotlib.pyplot as plt\n",
        "import mnist1d\n",
        "import random"
      ],
      "metadata": {
        "id": "YrXWAH7sUWvU"
      },
      "execution_count": 2,
      "outputs": []
    },
    {
      "cell_type": "code",
      "source": [
        "args = mnist1d.data.get_dataset_args()\n",
        "data = mnist1d.data.get_dataset(args, path='./mnist1d_data.pkl', download=False, regenerate=False)\n",
        "\n",
        "# The training and test input and outputs are in\n",
        "# data['x'], data['y'], data['x_test'], and data['y_test']\n",
        "print(\"Examples in training set: {}\".format(len(data['y'])))\n",
        "print(\"Examples in test set: {}\".format(len(data['y_test'])))\n",
        "print(\"Length of each example: {}\".format(data['x'].shape[-1]))"
      ],
      "metadata": {
        "id": "twI72ZCrCt5z",
        "colab": {
          "base_uri": "https://localhost:8080/"
        },
        "outputId": "558120d3-0b9d-44bd-c8f8-09adb0ddb9ea"
      },
      "execution_count": 3,
      "outputs": [
        {
          "output_type": "stream",
          "name": "stdout",
          "text": [
            "Did or could not load data from ./mnist1d_data.pkl. Rebuilding dataset...\n",
            "Examples in training set: 4000\n",
            "Examples in test set: 1000\n",
            "Length of each example: 40\n"
          ]
        }
      ]
    },
    {
      "cell_type": "code",
      "source": [
        "# Load in the data\n",
        "train_data_x = data['x'].transpose()\n",
        "train_data_y = data['y']\n",
        "val_data_x = data['x_test'].transpose()\n",
        "val_data_y = data['y_test']\n",
        "# Print out sizes\n",
        "print(\"Train data: %d examples (columns), each of which has %d dimensions (rows)\"%((train_data_x.shape[1],train_data_x.shape[0])))\n",
        "print(\"Validation data: %d examples (columns), each of which has %d dimensions (rows)\"%((val_data_x.shape[1],val_data_x.shape[0])))"
      ],
      "metadata": {
        "id": "8bKADvLHbiV5",
        "colab": {
          "base_uri": "https://localhost:8080/"
        },
        "outputId": "e5f7c77f-0694-479c-d963-94cca508047d"
      },
      "execution_count": 4,
      "outputs": [
        {
          "output_type": "stream",
          "name": "stdout",
          "text": [
            "Train data: 4000 examples (columns), each of which has 40 dimensions (rows)\n",
            "Validation data: 1000 examples (columns), each of which has 40 dimensions (rows)\n"
          ]
        }
      ]
    },
    {
      "cell_type": "markdown",
      "source": [
        "Define the network"
      ],
      "metadata": {
        "id": "_sFvRDGrl4qe"
      }
    },
    {
      "cell_type": "code",
      "source": [
        "# There are 40 input dimensions and 10 output dimensions for this data\n",
        "# The inputs correspond to the 40 offsets in the MNIST1D template.\n",
        "D_i = 40\n",
        "# The outputs correspond to the 10 digits\n",
        "D_o = 10\n",
        "\n",
        "\n",
        "# TODO Create a model with the following layers\n",
        "# 1. Convolutional layer, (input=length 40 and 1 channel, kernel size 3, stride 2, padding=\"valid\", 15 output channels )\n",
        "# 2. ReLU\n",
        "# 3. Convolutional layer, (input=length 19 and 15 channels, kernel size 3, stride 2, padding=\"valid\", 15 output channels )\n",
        "# 4. ReLU\n",
        "# 5. Convolutional layer, (input=length 9 and 15 channels, kernel size 3, stride 2, padding=\"valid\", 15 output channels)\n",
        "# 6. ReLU\n",
        "# 7. Flatten (converts 4x15) to length 60\n",
        "# 8. Linear layer (input size = 60, output size = 10)\n",
        "# References:\n",
        "# https://pytorch.org/docs/1.13/generated/torch.nn.Conv1d.html?highlight=conv1d#torch.nn.Conv1d\n",
        "# https://pytorch.org/docs/stable/generated/torch.nn.Flatten.html\n",
        "# https://pytorch.org/docs/1.13/generated/torch.nn.Linear.html?highlight=linear#torch.nn.Linear\n",
        "\n",
        "# NOTE THAT THE CONVOLUTIONAL LAYERS NEED TO TAKE THE NUMBER OF INPUT CHANNELS AS A PARAMETER\n",
        "# AND NOT THE INPUT SIZE.\n",
        "\n",
        "# Replace the following function:\n",
        "model = nn.Sequential(\n",
        "  nn.Conv1d(in_channels=1, out_channels=15, kernel_size=3, stride=2, padding=\"valid\"),\n",
        "  nn.ReLU(),\n",
        "  nn.Conv1d(in_channels=15, out_channels=15, kernel_size=3, stride=2, padding=\"valid\"),\n",
        "  nn.ReLU(),\n",
        "  nn.Conv1d(in_channels=15, out_channels=15, kernel_size=3, stride=2, padding=\"valid\"),\n",
        "  nn.ReLU(),\n",
        "  nn.Flatten(),\n",
        "  nn.Linear(60, 10)\n",
        ")\n",
        "\n",
        "# model = nn.Sequential(\n",
        "# nn.Flatten(),\n",
        "# nn.Linear(40, 100),\n",
        "# nn.ReLU(),\n",
        "# nn.Linear(100, 100),\n",
        "# nn.ReLU(),\n",
        "# nn.Linear(100, 10))"
      ],
      "metadata": {
        "id": "FslroPJJffrh"
      },
      "execution_count": 5,
      "outputs": []
    },
    {
      "cell_type": "code",
      "source": [
        "# He initialization of weights\n",
        "def weights_init(layer_in):\n",
        "  if isinstance(layer_in, nn.Linear):\n",
        "    nn.init.kaiming_uniform_(layer_in.weight)\n",
        "    layer_in.bias.data.fill_(0.0)"
      ],
      "metadata": {
        "id": "YgLaex1pfhqz"
      },
      "execution_count": 6,
      "outputs": []
    },
    {
      "cell_type": "code",
      "source": [
        "# choose cross entropy loss function (equation 5.24 in the loss notes)\n",
        "loss_function = nn.CrossEntropyLoss()\n",
        "# construct SGD optimizer and initialize learning rate and momentum\n",
        "optimizer = torch.optim.SGD(model.parameters(), lr = 0.05, momentum=0.9)\n",
        "# object that decreases learning rate by half every 20 epochs\n",
        "scheduler = StepLR(optimizer, step_size=20, gamma=0.5)\n",
        "# create 100 dummy data points and store in data loader class\n",
        "x_train = torch.tensor(train_data_x.transpose().astype('float32'))\n",
        "y_train = torch.tensor(train_data_y.astype('long')).long()\n",
        "x_val= torch.tensor(val_data_x.transpose().astype('float32'))\n",
        "y_val = torch.tensor(val_data_y.astype('long')).long()\n",
        "\n",
        "# load the data into a class that creates the batches\n",
        "data_loader = DataLoader(TensorDataset(x_train,y_train), batch_size=100, shuffle=True, worker_init_fn=np.random.seed(1))\n",
        "\n",
        "# Initialize model weights\n",
        "model.apply(weights_init)\n",
        "\n",
        "# loop over the dataset n_epoch times\n",
        "n_epoch = 100\n",
        "# store the loss and the % correct at each epoch\n",
        "losses_train = np.zeros((n_epoch))\n",
        "errors_train = np.zeros((n_epoch))\n",
        "losses_val = np.zeros((n_epoch))\n",
        "errors_val = np.zeros((n_epoch))\n",
        "\n",
        "for epoch in range(n_epoch):\n",
        "  # loop over batches\n",
        "  for i, data in enumerate(data_loader):\n",
        "    # retrieve inputs and labels for this batch\n",
        "    x_batch, y_batch = data\n",
        "    # zero the parameter gradients\n",
        "    optimizer.zero_grad()\n",
        "    # forward pass -- calculate model output\n",
        "    pred = model(x_batch[:,None,:])\n",
        "    # compute the loss\n",
        "    loss = loss_function(pred, y_batch)\n",
        "    # backward pass\n",
        "    loss.backward()\n",
        "    # SGD update\n",
        "    optimizer.step()\n",
        "\n",
        "  # Run whole dataset to get statistics -- normally wouldn't do this\n",
        "  pred_train = model(x_train[:,None,:])\n",
        "  pred_val = model(x_val[:,None,:])\n",
        "  _, predicted_train_class = torch.max(pred_train.data, 1)\n",
        "  _, predicted_val_class = torch.max(pred_val.data, 1)\n",
        "  errors_train[epoch] = 100 - 100 * (predicted_train_class == y_train).float().sum() / len(y_train)\n",
        "  errors_val[epoch]= 100 - 100 * (predicted_val_class == y_val).float().sum() / len(y_val)\n",
        "  losses_train[epoch] = loss_function(pred_train, y_train).item()\n",
        "  losses_val[epoch]= loss_function(pred_val, y_val).item()\n",
        "  print(f'Epoch {epoch:5d}, train loss {losses_train[epoch]:.6f}, train error {errors_train[epoch]:3.2f},  val loss {losses_val[epoch]:.6f}, percent error {errors_val[epoch]:3.2f}')\n",
        "\n",
        "  # tell scheduler to consider updating learning rate\n",
        "  scheduler.step()\n",
        "\n",
        "# Plot the results\n",
        "fig, ax = plt.subplots()\n",
        "ax.plot(errors_train,'r-',label='train')\n",
        "ax.plot(errors_val,'b-',label='validation')\n",
        "ax.set_ylim(0,100); ax.set_xlim(0,n_epoch)\n",
        "ax.set_xlabel('Epoch'); ax.set_ylabel('Error')\n",
        "ax.set_title('Part I: Validation Result %3.2f'%(errors_val[-1]))\n",
        "ax.legend()\n",
        "plt.show()"
      ],
      "metadata": {
        "id": "NYw8I_3mmX5c",
        "colab": {
          "base_uri": "https://localhost:8080/",
          "height": 1000
        },
        "outputId": "279bb490-05a5-4716-c21f-b7941f84caac"
      },
      "execution_count": 7,
      "outputs": [
        {
          "output_type": "stream",
          "name": "stdout",
          "text": [
            "Epoch     0, train loss 2.066942, train error 77.22,  val loss 2.065913, percent error 76.30\n",
            "Epoch     1, train loss 1.644324, train error 65.22,  val loss 1.658237, percent error 71.40\n",
            "Epoch     2, train loss 1.490934, train error 60.58,  val loss 1.519931, percent error 65.20\n",
            "Epoch     3, train loss 1.328438, train error 53.47,  val loss 1.342175, percent error 56.80\n",
            "Epoch     4, train loss 1.222537, train error 50.95,  val loss 1.253079, percent error 53.20\n",
            "Epoch     5, train loss 1.121435, train error 44.33,  val loss 1.153022, percent error 48.80\n",
            "Epoch     6, train loss 1.048128, train error 42.55,  val loss 1.093096, percent error 44.90\n",
            "Epoch     7, train loss 0.953646, train error 39.60,  val loss 1.001294, percent error 41.10\n",
            "Epoch     8, train loss 0.854315, train error 36.00,  val loss 0.900680, percent error 39.00\n",
            "Epoch     9, train loss 0.974798, train error 40.17,  val loss 1.059177, percent error 43.00\n",
            "Epoch    10, train loss 0.725682, train error 29.40,  val loss 0.810912, percent error 33.50\n",
            "Epoch    11, train loss 0.785951, train error 30.70,  val loss 0.877162, percent error 34.20\n",
            "Epoch    12, train loss 0.674174, train error 26.28,  val loss 0.786694, percent error 31.10\n",
            "Epoch    13, train loss 0.597630, train error 23.40,  val loss 0.695220, percent error 26.80\n",
            "Epoch    14, train loss 0.535505, train error 20.05,  val loss 0.646708, percent error 23.80\n",
            "Epoch    15, train loss 0.527285, train error 19.62,  val loss 0.646061, percent error 24.00\n",
            "Epoch    16, train loss 0.437863, train error 16.03,  val loss 0.555189, percent error 19.60\n",
            "Epoch    17, train loss 0.391211, train error 13.62,  val loss 0.518696, percent error 17.90\n",
            "Epoch    18, train loss 0.411583, train error 15.90,  val loss 0.550088, percent error 19.00\n",
            "Epoch    19, train loss 0.403648, train error 14.15,  val loss 0.519135, percent error 17.60\n",
            "Epoch    20, train loss 0.291606, train error 10.12,  val loss 0.443684, percent error 15.10\n",
            "Epoch    21, train loss 0.267628, train error 8.82,  val loss 0.429791, percent error 14.60\n",
            "Epoch    22, train loss 0.241924, train error 8.43,  val loss 0.413826, percent error 14.10\n",
            "Epoch    23, train loss 0.240221, train error 8.22,  val loss 0.423464, percent error 14.20\n",
            "Epoch    24, train loss 0.216369, train error 7.65,  val loss 0.397789, percent error 13.10\n",
            "Epoch    25, train loss 0.192558, train error 6.28,  val loss 0.394250, percent error 12.70\n",
            "Epoch    26, train loss 0.192078, train error 6.75,  val loss 0.406083, percent error 12.50\n",
            "Epoch    27, train loss 0.183990, train error 6.32,  val loss 0.409699, percent error 12.80\n",
            "Epoch    28, train loss 0.173339, train error 5.95,  val loss 0.384949, percent error 11.70\n",
            "Epoch    29, train loss 0.165705, train error 5.20,  val loss 0.395479, percent error 11.50\n",
            "Epoch    30, train loss 0.163473, train error 5.30,  val loss 0.377751, percent error 11.40\n",
            "Epoch    31, train loss 0.154852, train error 5.28,  val loss 0.389556, percent error 11.50\n",
            "Epoch    32, train loss 0.143862, train error 4.93,  val loss 0.393402, percent error 12.30\n",
            "Epoch    33, train loss 0.128856, train error 4.25,  val loss 0.390399, percent error 11.20\n",
            "Epoch    34, train loss 0.134820, train error 4.25,  val loss 0.426098, percent error 12.90\n",
            "Epoch    35, train loss 0.117391, train error 3.57,  val loss 0.408656, percent error 12.20\n",
            "Epoch    36, train loss 0.118967, train error 3.85,  val loss 0.416071, percent error 12.10\n",
            "Epoch    37, train loss 0.118700, train error 3.80,  val loss 0.404879, percent error 12.70\n",
            "Epoch    38, train loss 0.119877, train error 4.22,  val loss 0.404035, percent error 10.80\n",
            "Epoch    39, train loss 0.113003, train error 3.82,  val loss 0.400762, percent error 11.50\n",
            "Epoch    40, train loss 0.091130, train error 2.50,  val loss 0.406521, percent error 11.60\n",
            "Epoch    41, train loss 0.089350, train error 2.60,  val loss 0.405387, percent error 12.00\n",
            "Epoch    42, train loss 0.087423, train error 2.38,  val loss 0.407595, percent error 11.80\n",
            "Epoch    43, train loss 0.086523, train error 2.57,  val loss 0.423829, percent error 11.60\n",
            "Epoch    44, train loss 0.088416, train error 2.50,  val loss 0.437284, percent error 13.00\n",
            "Epoch    45, train loss 0.082014, train error 2.25,  val loss 0.422580, percent error 11.60\n",
            "Epoch    46, train loss 0.083114, train error 2.43,  val loss 0.432611, percent error 11.70\n",
            "Epoch    47, train loss 0.079945, train error 2.30,  val loss 0.429033, percent error 11.70\n",
            "Epoch    48, train loss 0.073774, train error 1.88,  val loss 0.421714, percent error 11.10\n",
            "Epoch    49, train loss 0.073833, train error 1.93,  val loss 0.436768, percent error 11.20\n",
            "Epoch    50, train loss 0.070144, train error 1.78,  val loss 0.427837, percent error 11.30\n",
            "Epoch    51, train loss 0.068056, train error 1.75,  val loss 0.432314, percent error 11.90\n",
            "Epoch    52, train loss 0.072726, train error 2.07,  val loss 0.457628, percent error 12.00\n",
            "Epoch    53, train loss 0.068349, train error 1.82,  val loss 0.430243, percent error 11.80\n",
            "Epoch    54, train loss 0.063863, train error 1.38,  val loss 0.439575, percent error 11.70\n",
            "Epoch    55, train loss 0.077130, train error 2.28,  val loss 0.441424, percent error 11.80\n",
            "Epoch    56, train loss 0.066609, train error 1.70,  val loss 0.430573, percent error 11.10\n",
            "Epoch    57, train loss 0.061381, train error 1.53,  val loss 0.448191, percent error 10.80\n",
            "Epoch    58, train loss 0.058247, train error 1.43,  val loss 0.449534, percent error 11.80\n",
            "Epoch    59, train loss 0.057587, train error 1.47,  val loss 0.460973, percent error 11.20\n",
            "Epoch    60, train loss 0.053948, train error 1.15,  val loss 0.452073, percent error 11.40\n",
            "Epoch    61, train loss 0.053758, train error 1.20,  val loss 0.449933, percent error 11.20\n",
            "Epoch    62, train loss 0.052583, train error 1.07,  val loss 0.450674, percent error 11.20\n",
            "Epoch    63, train loss 0.053363, train error 1.20,  val loss 0.456626, percent error 10.60\n",
            "Epoch    64, train loss 0.051643, train error 1.07,  val loss 0.465987, percent error 11.40\n",
            "Epoch    65, train loss 0.051656, train error 1.18,  val loss 0.466933, percent error 11.60\n",
            "Epoch    66, train loss 0.050690, train error 1.00,  val loss 0.468679, percent error 11.50\n",
            "Epoch    67, train loss 0.049979, train error 1.05,  val loss 0.468596, percent error 11.30\n",
            "Epoch    68, train loss 0.051662, train error 1.07,  val loss 0.473495, percent error 11.30\n",
            "Epoch    69, train loss 0.049081, train error 1.10,  val loss 0.470572, percent error 11.20\n",
            "Epoch    70, train loss 0.048583, train error 0.93,  val loss 0.468703, percent error 11.20\n",
            "Epoch    71, train loss 0.051201, train error 1.07,  val loss 0.469383, percent error 11.40\n",
            "Epoch    72, train loss 0.048065, train error 0.97,  val loss 0.478199, percent error 11.90\n",
            "Epoch    73, train loss 0.046646, train error 0.95,  val loss 0.473879, percent error 11.40\n",
            "Epoch    74, train loss 0.048175, train error 1.05,  val loss 0.486062, percent error 11.50\n",
            "Epoch    75, train loss 0.045912, train error 0.88,  val loss 0.475543, percent error 11.60\n",
            "Epoch    76, train loss 0.045637, train error 0.97,  val loss 0.484826, percent error 11.10\n",
            "Epoch    77, train loss 0.044392, train error 0.85,  val loss 0.479278, percent error 11.30\n",
            "Epoch    78, train loss 0.044977, train error 0.90,  val loss 0.478622, percent error 10.90\n",
            "Epoch    79, train loss 0.043637, train error 0.85,  val loss 0.494591, percent error 11.30\n",
            "Epoch    80, train loss 0.042707, train error 0.90,  val loss 0.484763, percent error 11.30\n",
            "Epoch    81, train loss 0.042310, train error 0.88,  val loss 0.487509, percent error 11.20\n",
            "Epoch    82, train loss 0.042000, train error 0.82,  val loss 0.487885, percent error 11.10\n",
            "Epoch    83, train loss 0.041412, train error 0.85,  val loss 0.490643, percent error 11.40\n",
            "Epoch    84, train loss 0.042199, train error 0.88,  val loss 0.489648, percent error 11.50\n",
            "Epoch    85, train loss 0.041516, train error 0.72,  val loss 0.494657, percent error 11.30\n",
            "Epoch    86, train loss 0.041359, train error 0.80,  val loss 0.495113, percent error 11.40\n",
            "Epoch    87, train loss 0.040980, train error 0.70,  val loss 0.495159, percent error 11.20\n",
            "Epoch    88, train loss 0.040302, train error 0.72,  val loss 0.496150, percent error 11.30\n",
            "Epoch    89, train loss 0.040577, train error 0.72,  val loss 0.501791, percent error 11.30\n",
            "Epoch    90, train loss 0.041159, train error 0.70,  val loss 0.502409, percent error 11.20\n",
            "Epoch    91, train loss 0.039845, train error 0.80,  val loss 0.500042, percent error 11.00\n",
            "Epoch    92, train loss 0.039919, train error 0.72,  val loss 0.502361, percent error 11.00\n",
            "Epoch    93, train loss 0.039181, train error 0.62,  val loss 0.498170, percent error 11.20\n",
            "Epoch    94, train loss 0.038943, train error 0.65,  val loss 0.497942, percent error 11.30\n",
            "Epoch    95, train loss 0.039329, train error 0.65,  val loss 0.506001, percent error 11.10\n",
            "Epoch    96, train loss 0.038675, train error 0.60,  val loss 0.505657, percent error 11.30\n",
            "Epoch    97, train loss 0.038829, train error 0.68,  val loss 0.501179, percent error 11.30\n",
            "Epoch    98, train loss 0.038083, train error 0.57,  val loss 0.506150, percent error 11.10\n",
            "Epoch    99, train loss 0.038069, train error 0.60,  val loss 0.505074, percent error 11.40\n"
          ]
        },
        {
          "output_type": "display_data",
          "data": {
            "text/plain": [
              "<Figure size 640x480 with 1 Axes>"
            ],
            "image/png": "[encoded data removed]"
          },
          "metadata": {}
        }
      ]
    }
  ]
}