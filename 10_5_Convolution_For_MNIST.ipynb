{
  "nbformat": 4,
  "nbformat_minor": 0,
  "metadata": {
    "colab": {
      "provenance": [],
      "include_colab_link": true
    },
    "kernelspec": {
      "name": "python3",
      "display_name": "Python 3"
    },
    "language_info": {
      "name": "python"
    }
  },
  "cells": [
    {
      "cell_type": "markdown",
      "metadata": {
        "id": "view-in-github",
        "colab_type": "text"
      },
      "source": [
        "<a href=\"https://colab.research.google.com/github/MASDXI/NF-846-Deep-Learning/blob/main/10_5_Convolution_For_MNIST.ipynb\" target=\"_parent\"><img src=\"https://colab.research.google.com/assets/colab-badge.svg\" alt=\"Open In Colab\"/></a>"
      ]
    },
    {
      "cell_type": "markdown",
      "source": [
        "# **Notebook 10.5: Convolution for MNIST**\n",
        "\n",
        "This notebook builds a proper network for 2D convolution.  It works with the MNIST dataset (figure 15.15a), which was the original classic dataset for classifying images.  The network will take a 28x28 grayscale image and classify it into one of 10 classes representing a digit.\n",
        "\n",
        "The code is adapted from https://nextjournal.com/gkoehler/pytorch-mnist\n",
        "\n",
        "Work through the cells below, running each cell in turn. In various places you will see the words \"TODO\". Follow the instructions at these places and make predictions about what is going to happen or write code to complete the functions.\n",
        "\n",
        "Contact me at udlbookmail@gmail.com if you find any mistakes or have any suggestions.\n"
      ],
      "metadata": {
        "id": "t9vk9Elugvmi"
      }
    },
    {
      "cell_type": "code",
      "source": [
        "import torch\n",
        "import torchvision\n",
        "import torch.nn as nn\n",
        "import torch.nn.functional as F\n",
        "import torch.optim as optim\n",
        "import matplotlib.pyplot as plt\n",
        "import random"
      ],
      "metadata": {
        "id": "YrXWAH7sUWvU"
      },
      "execution_count": 1,
      "outputs": []
    },
    {
      "cell_type": "code",
      "source": [
        "# Run this once to load the train and test data straight into a dataloader class\n",
        "# that will provide the batches\n",
        "\n",
        "# (It may complain that some files are missing because the files seem to have been\n",
        "# reorganized on the underlying website, but it still seems to work). If everything is working\n",
        "# properly, then the whole notebook should run to the end without further problems\n",
        "# even before you make changes.\n",
        "batch_size_train = 64\n",
        "batch_size_test = 1000\n",
        "\n",
        "# TODO Change this directory to point towards an existing directory\n",
        "myDir = '/files/'\n",
        "\n",
        "train_loader = torch.utils.data.DataLoader(\n",
        "  torchvision.datasets.MNIST(myDir, train=True, download=True,\n",
        "                             transform=torchvision.transforms.Compose([\n",
        "                               torchvision.transforms.ToTensor(),\n",
        "                               torchvision.transforms.Normalize(\n",
        "                                 (0.1307,), (0.3081,))\n",
        "                             ])),\n",
        "  batch_size=batch_size_train, shuffle=True)\n",
        "\n",
        "test_loader = torch.utils.data.DataLoader(\n",
        "  torchvision.datasets.MNIST(myDir, train=False, download=True,\n",
        "                             transform=torchvision.transforms.Compose([\n",
        "                               torchvision.transforms.ToTensor(),\n",
        "                               torchvision.transforms.Normalize(\n",
        "                                 (0.1307,), (0.3081,))\n",
        "                             ])),\n",
        "  batch_size=batch_size_test, shuffle=True)"
      ],
      "metadata": {
        "id": "wScBGXXFVadm",
        "colab": {
          "base_uri": "https://localhost:8080/"
        },
        "outputId": "e7d28783-51d1-4eff-d435-6e5837789785"
      },
      "execution_count": 2,
      "outputs": [
        {
          "output_type": "stream",
          "name": "stderr",
          "text": [
            "100%|██████████| 9.91M/9.91M [00:00<00:00, 18.4MB/s]\n",
            "100%|██████████| 28.9k/28.9k [00:00<00:00, 493kB/s]\n",
            "100%|██████████| 1.65M/1.65M [00:00<00:00, 3.86MB/s]\n",
            "100%|██████████| 4.54k/4.54k [00:00<00:00, 3.20MB/s]\n"
          ]
        }
      ]
    },
    {
      "cell_type": "code",
      "source": [
        "# Let's draw some of the training data\n",
        "examples = enumerate(test_loader)\n",
        "batch_idx, (example_data, example_targets) = next(examples)\n",
        "\n",
        "fig = plt.figure()\n",
        "for i in range(6):\n",
        "  plt.subplot(2,3,i+1)\n",
        "  plt.tight_layout()\n",
        "  plt.imshow(example_data[i][0], cmap='gray', interpolation='none')\n",
        "  plt.title(\"Ground Truth: {}\".format(example_targets[i]))\n",
        "  plt.xticks([])\n",
        "  plt.yticks([])\n",
        "plt.show()"
      ],
      "metadata": {
        "id": "8bKADvLHbiV5",
        "colab": {
          "base_uri": "https://localhost:8080/",
          "height": 438
        },
        "outputId": "2013b282-f11d-4702-ad6b-35718603a86d"
      },
      "execution_count": 3,
      "outputs": [
        {
          "output_type": "display_data",
          "data": {
            "text/plain": [
              "<Figure size 640x480 with 6 Axes>"
            ],
            "image/png": "[encoded data removed]"
          },
          "metadata": {}
        }
      ]
    },
    {
      "cell_type": "markdown",
      "source": [
        "Define the network.  This is a more typical way to define a network than the sequential structure.  We define a class for the network, and define the parameters in the constructor.  Then we use a function called forward to actually run the network.  It's easy to see how you might use residual connections in this format."
      ],
      "metadata": {
        "id": "_sFvRDGrl4qe"
      }
    },
    {
      "cell_type": "code",
      "source": [
        "from os import X_OK\n",
        "# TODO Change this class to implement\n",
        "# 1. A valid convolution with kernel size 5, 1 input channel and 10 output channels\n",
        "# 2. A max pooling operation over a 2x2 area\n",
        "# 3. A Relu\n",
        "# 4. A valid convolution with kernel size 5, 10 input channels and 20 output channels\n",
        "# 5. A 2D Dropout layer\n",
        "# 6. A max pooling operation over a 2x2 area\n",
        "# 7. A relu\n",
        "# 8. A flattening operation\n",
        "# 9. A fully connected layer mapping from (whatever dimensions we are at-- find out using .shape) to 50\n",
        "# 10. A ReLU\n",
        "# 11. A fully connected layer mapping from 50 to 10 dimensions\n",
        "# 12. A softmax function.\n",
        "\n",
        "# Replace this class which implements a minimal network (which still does okay)\n",
        "class Net(nn.Module):\n",
        "    def __init__(self):\n",
        "        super(Net, self).__init__()\n",
        "        # Valid convolution, 1 channel in, 2 channels out, stride 1, kernel size = 3\n",
        "        self.conv1 = nn.Conv2d(1, 2, kernel_size=3)\n",
        "        # Dropout for convolutions\n",
        "        self.drop = nn.Dropout2d()\n",
        "        # Fully connected layer\n",
        "        self.fc1 = nn.Linear(338, 10)\n",
        "\n",
        "    def forward(self, x):\n",
        "        x = self.conv1(x)\n",
        "        x = self.drop(x)\n",
        "        x = F.max_pool2d(x,2)\n",
        "        x = F.relu(x)\n",
        "        x = x.flatten(1)\n",
        "        x = self.fc1(x)\n",
        "        x = F.log_softmax(x)\n",
        "        return x\n",
        "\n",
        "\n",
        "\n",
        "\n"
      ],
      "metadata": {
        "id": "EQkvw2KOPVl7"
      },
      "execution_count": 8,
      "outputs": []
    },
    {
      "cell_type": "code",
      "source": [
        "# He initialization of weights\n",
        "def weights_init(layer_in):\n",
        "  if isinstance(layer_in, nn.Linear):\n",
        "    nn.init.kaiming_uniform_(layer_in.weight)\n",
        "    layer_in.bias.data.fill_(0.0)"
      ],
      "metadata": {
        "id": "qWZtkCZcU_dg"
      },
      "execution_count": 9,
      "outputs": []
    },
    {
      "cell_type": "code",
      "source": [
        "# Create network\n",
        "model = Net()\n",
        "# Initialize model weights\n",
        "model.apply(weights_init)\n",
        "# Define optimizer\n",
        "optimizer = optim.SGD(model.parameters(), lr=0.01, momentum=0.5)"
      ],
      "metadata": {
        "id": "FslroPJJffrh"
      },
      "execution_count": 10,
      "outputs": []
    },
    {
      "cell_type": "code",
      "source": [
        "# Main training routine\n",
        "def train(epoch):\n",
        "  model.train()\n",
        "  # Get each\n",
        "  for batch_idx, (data, target) in enumerate(train_loader):\n",
        "    optimizer.zero_grad()\n",
        "    output = model(data)\n",
        "    loss = F.nll_loss(output, target)\n",
        "    loss.backward()\n",
        "    optimizer.step()\n",
        "    # Store results\n",
        "    if batch_idx % 10 == 0:\n",
        "      print('Train Epoch: {} [{}/{}]\\tLoss: {:.6f}'.format(\n",
        "        epoch, batch_idx * len(data), len(train_loader.dataset), loss.item()))"
      ],
      "metadata": {
        "id": "xKQd9PzkQ766"
      },
      "execution_count": 13,
      "outputs": []
    },
    {
      "cell_type": "code",
      "source": [
        "# Run on test data\n",
        "def test():\n",
        "  model.eval()\n",
        "  test_loss = 0\n",
        "  correct = 0\n",
        "  with torch.no_grad():\n",
        "    for data, target in test_loader:\n",
        "      output = model(data)\n",
        "      test_loss += F.nll_loss(output, target, size_average=False).item()\n",
        "      pred = output.data.max(1, keepdim=True)[1]\n",
        "      correct += pred.eq(target.data.view_as(pred)).sum()\n",
        "  test_loss /= len(test_loader.dataset)\n",
        "  print('\\nTest set: Avg. loss: {:.4f}, Accuracy: {}/{} ({:.0f}%)\\n'.format(\n",
        "    test_loss, correct, len(test_loader.dataset),\n",
        "    100. * correct / len(test_loader.dataset)))"
      ],
      "metadata": {
        "id": "Byn-f7qWRLxX"
      },
      "execution_count": 14,
      "outputs": []
    },
    {
      "cell_type": "code",
      "source": [
        "# Get initial performance\n",
        "test()\n",
        "# Train for three epochs\n",
        "n_epochs = 3\n",
        "for epoch in range(1, n_epochs + 1):\n",
        "  train(epoch)\n",
        "  test()"
      ],
      "metadata": {
        "id": "YgLaex1pfhqz",
        "colab": {
          "base_uri": "https://localhost:8080/"
        },
        "outputId": "6bd4cbf8-3fc6-452b-e556-2b0c0960cff3"
      },
      "execution_count": 15,
      "outputs": [
        {
          "output_type": "stream",
          "name": "stderr",
          "text": [
            "/tmp/ipython-input-8-2166679198.py:34: UserWarning: Implicit dimension choice for log_softmax has been deprecated. Change the call to include dim=X as an argument.\n",
            "  x = F.log_softmax(x)\n",
            "/usr/local/lib/python3.11/dist-packages/torch/nn/_reduction.py:51: UserWarning: size_average and reduce args will be deprecated, please use reduction='sum' instead.\n",
            "  warnings.warn(warning.format(ret))\n",
            "/tmp/ipython-input-8-2166679198.py:34: UserWarning: Implicit dimension choice for log_softmax has been deprecated. Change the call to include dim=X as an argument.\n",
            "  x = F.log_softmax(x)\n",
            "/usr/local/lib/python3.11/dist-packages/torch/nn/_reduction.py:51: UserWarning: size_average and reduce args will be deprecated, please use reduction='sum' instead.\n",
            "  warnings.warn(warning.format(ret))\n"
          ]
        },
        {
          "output_type": "stream",
          "name": "stdout",
          "text": [
            "\n",
            "Test set: Avg. loss: 2.6460, Accuracy: 915/10000 (9%)\n",
            "\n",
            "Train Epoch: 1 [0/60000]\tLoss: 2.972960\n",
            "Train Epoch: 1 [640/60000]\tLoss: 2.319580\n",
            "Train Epoch: 1 [1280/60000]\tLoss: 2.182939\n"
          ]
        },
        {
          "output_type": "stream",
          "name": "stderr",
          "text": [
            "/tmp/ipython-input-8-2166679198.py:34: UserWarning: Implicit dimension choice for log_softmax has been deprecated. Change the call to include dim=X as an argument.\n",
            "  x = F.log_softmax(x)\n"
          ]
        },
        {
          "output_type": "stream",
          "name": "stdout",
          "text": [
            "Train Epoch: 1 [1920/60000]\tLoss: 2.026715\n",
            "Train Epoch: 1 [2560/60000]\tLoss: 2.220032\n"
          ]
        },
        {
          "output_type": "stream",
          "name": "stderr",
          "text": [
            "/tmp/ipython-input-8-2166679198.py:34: UserWarning: Implicit dimension choice for log_softmax has been deprecated. Change the call to include dim=X as an argument.\n",
            "  x = F.log_softmax(x)\n"
          ]
        },
        {
          "output_type": "stream",
          "name": "stdout",
          "text": [
            "Train Epoch: 1 [3200/60000]\tLoss: 1.929749\n",
            "Train Epoch: 1 [3840/60000]\tLoss: 1.838656\n",
            "Train Epoch: 1 [4480/60000]\tLoss: 1.495320\n",
            "Train Epoch: 1 [5120/60000]\tLoss: 1.510156\n",
            "Train Epoch: 1 [5760/60000]\tLoss: 1.392467\n"
          ]
        },
        {
          "output_type": "stream",
          "name": "stderr",
          "text": [
            "/tmp/ipython-input-8-2166679198.py:34: UserWarning: Implicit dimension choice for log_softmax has been deprecated. Change the call to include dim=X as an argument.\n",
            "  x = F.log_softmax(x)\n"
          ]
        },
        {
          "output_type": "stream",
          "name": "stdout",
          "text": [
            "Train Epoch: 1 [6400/60000]\tLoss: 1.565693\n",
            "Train Epoch: 1 [7040/60000]\tLoss: 1.607844\n",
            "Train Epoch: 1 [7680/60000]\tLoss: 1.504403\n",
            "Train Epoch: 1 [8320/60000]\tLoss: 1.311713\n",
            "Train Epoch: 1 [8960/60000]\tLoss: 1.648627\n"
          ]
        },
        {
          "output_type": "stream",
          "name": "stderr",
          "text": [
            "/tmp/ipython-input-8-2166679198.py:34: UserWarning: Implicit dimension choice for log_softmax has been deprecated. Change the call to include dim=X as an argument.\n",
            "  x = F.log_softmax(x)\n"
          ]
        },
        {
          "output_type": "stream",
          "name": "stdout",
          "text": [
            "Train Epoch: 1 [9600/60000]\tLoss: 1.378169\n",
            "Train Epoch: 1 [10240/60000]\tLoss: 1.024609\n",
            "Train Epoch: 1 [10880/60000]\tLoss: 1.424803\n",
            "Train Epoch: 1 [11520/60000]\tLoss: 1.395365\n"
          ]
        },
        {
          "output_type": "stream",
          "name": "stderr",
          "text": [
            "/tmp/ipython-input-8-2166679198.py:34: UserWarning: Implicit dimension choice for log_softmax has been deprecated. Change the call to include dim=X as an argument.\n",
            "  x = F.log_softmax(x)\n"
          ]
        },
        {
          "output_type": "stream",
          "name": "stdout",
          "text": [
            "Train Epoch: 1 [12160/60000]\tLoss: 1.445313\n",
            "Train Epoch: 1 [12800/60000]\tLoss: 1.308862\n",
            "Train Epoch: 1 [13440/60000]\tLoss: 1.240634\n",
            "Train Epoch: 1 [14080/60000]\tLoss: 1.156107\n"
          ]
        },
        {
          "output_type": "stream",
          "name": "stderr",
          "text": [
            "/tmp/ipython-input-8-2166679198.py:34: UserWarning: Implicit dimension choice for log_softmax has been deprecated. Change the call to include dim=X as an argument.\n",
            "  x = F.log_softmax(x)\n"
          ]
        },
        {
          "output_type": "stream",
          "name": "stdout",
          "text": [
            "Train Epoch: 1 [14720/60000]\tLoss: 1.184082\n",
            "Train Epoch: 1 [15360/60000]\tLoss: 1.207316\n",
            "Train Epoch: 1 [16000/60000]\tLoss: 1.081277\n",
            "Train Epoch: 1 [16640/60000]\tLoss: 1.094302\n",
            "Train Epoch: 1 [17280/60000]\tLoss: 1.064397\n",
            "Train Epoch: 1 [17920/60000]\tLoss: 1.239595\n",
            "Train Epoch: 1 [18560/60000]\tLoss: 1.280379\n",
            "Train Epoch: 1 [19200/60000]\tLoss: 1.192131\n",
            "Train Epoch: 1 [19840/60000]\tLoss: 1.058233\n",
            "Train Epoch: 1 [20480/60000]\tLoss: 0.925606\n"
          ]
        },
        {
          "output_type": "stream",
          "name": "stderr",
          "text": [
            "/tmp/ipython-input-8-2166679198.py:34: UserWarning: Implicit dimension choice for log_softmax has been deprecated. Change the call to include dim=X as an argument.\n",
            "  x = F.log_softmax(x)\n"
          ]
        },
        {
          "output_type": "stream",
          "name": "stdout",
          "text": [
            "Train Epoch: 1 [21120/60000]\tLoss: 1.034431\n",
            "Train Epoch: 1 [21760/60000]\tLoss: 1.205049\n"
          ]
        },
        {
          "output_type": "stream",
          "name": "stderr",
          "text": [
            "/tmp/ipython-input-8-2166679198.py:34: UserWarning: Implicit dimension choice for log_softmax has been deprecated. Change the call to include dim=X as an argument.\n",
            "  x = F.log_softmax(x)\n"
          ]
        },
        {
          "output_type": "stream",
          "name": "stdout",
          "text": [
            "Train Epoch: 1 [22400/60000]\tLoss: 1.252362\n",
            "Train Epoch: 1 [23040/60000]\tLoss: 0.992143\n",
            "Train Epoch: 1 [23680/60000]\tLoss: 1.068081\n",
            "Train Epoch: 1 [24320/60000]\tLoss: 0.697190\n",
            "Train Epoch: 1 [24960/60000]\tLoss: 1.230467\n",
            "Train Epoch: 1 [25600/60000]\tLoss: 0.825936\n",
            "Train Epoch: 1 [26240/60000]\tLoss: 0.865995\n",
            "Train Epoch: 1 [26880/60000]\tLoss: 1.253253\n"
          ]
        },
        {
          "output_type": "stream",
          "name": "stderr",
          "text": [
            "/tmp/ipython-input-8-2166679198.py:34: UserWarning: Implicit dimension choice for log_softmax has been deprecated. Change the call to include dim=X as an argument.\n",
            "  x = F.log_softmax(x)\n"
          ]
        },
        {
          "output_type": "stream",
          "name": "stdout",
          "text": [
            "Train Epoch: 1 [27520/60000]\tLoss: 1.409234\n",
            "Train Epoch: 1 [28160/60000]\tLoss: 1.030010\n"
          ]
        },
        {
          "output_type": "stream",
          "name": "stderr",
          "text": [
            "/tmp/ipython-input-8-2166679198.py:34: UserWarning: Implicit dimension choice for log_softmax has been deprecated. Change the call to include dim=X as an argument.\n",
            "  x = F.log_softmax(x)\n"
          ]
        },
        {
          "output_type": "stream",
          "name": "stdout",
          "text": [
            "Train Epoch: 1 [28800/60000]\tLoss: 0.857412\n",
            "Train Epoch: 1 [29440/60000]\tLoss: 0.895288\n",
            "Train Epoch: 1 [30080/60000]\tLoss: 0.878495\n",
            "Train Epoch: 1 [30720/60000]\tLoss: 0.766906\n",
            "Train Epoch: 1 [31360/60000]\tLoss: 0.953395\n"
          ]
        },
        {
          "output_type": "stream",
          "name": "stderr",
          "text": [
            "/tmp/ipython-input-8-2166679198.py:34: UserWarning: Implicit dimension choice for log_softmax has been deprecated. Change the call to include dim=X as an argument.\n",
            "  x = F.log_softmax(x)\n"
          ]
        },
        {
          "output_type": "stream",
          "name": "stdout",
          "text": [
            "Train Epoch: 1 [32000/60000]\tLoss: 0.887610\n",
            "Train Epoch: 1 [32640/60000]\tLoss: 1.007297\n"
          ]
        },
        {
          "output_type": "stream",
          "name": "stderr",
          "text": [
            "/tmp/ipython-input-8-2166679198.py:34: UserWarning: Implicit dimension choice for log_softmax has been deprecated. Change the call to include dim=X as an argument.\n",
            "  x = F.log_softmax(x)\n",
            "/tmp/ipython-input-8-2166679198.py:34: UserWarning: Implicit dimension choice for log_softmax has been deprecated. Change the call to include dim=X as an argument.\n",
            "  x = F.log_softmax(x)\n"
          ]
        },
        {
          "output_type": "stream",
          "name": "stdout",
          "text": [
            "Train Epoch: 1 [33280/60000]\tLoss: 1.242120\n"
          ]
        },
        {
          "output_type": "stream",
          "name": "stderr",
          "text": [
            "/tmp/ipython-input-8-2166679198.py:34: UserWarning: Implicit dimension choice for log_softmax has been deprecated. Change the call to include dim=X as an argument.\n",
            "  x = F.log_softmax(x)\n"
          ]
        },
        {
          "output_type": "stream",
          "name": "stdout",
          "text": [
            "Train Epoch: 1 [33920/60000]\tLoss: 0.781623\n",
            "Train Epoch: 1 [34560/60000]\tLoss: 1.316739\n",
            "Train Epoch: 1 [35200/60000]\tLoss: 0.879329\n"
          ]
        },
        {
          "output_type": "stream",
          "name": "stderr",
          "text": [
            "/tmp/ipython-input-8-2166679198.py:34: UserWarning: Implicit dimension choice for log_softmax has been deprecated. Change the call to include dim=X as an argument.\n",
            "  x = F.log_softmax(x)\n"
          ]
        },
        {
          "output_type": "stream",
          "name": "stdout",
          "text": [
            "Train Epoch: 1 [35840/60000]\tLoss: 1.034027\n"
          ]
        },
        {
          "output_type": "stream",
          "name": "stderr",
          "text": [
            "/tmp/ipython-input-8-2166679198.py:34: UserWarning: Implicit dimension choice for log_softmax has been deprecated. Change the call to include dim=X as an argument.\n",
            "  x = F.log_softmax(x)\n"
          ]
        },
        {
          "output_type": "stream",
          "name": "stdout",
          "text": [
            "Train Epoch: 1 [36480/60000]\tLoss: 0.784281\n",
            "Train Epoch: 1 [37120/60000]\tLoss: 1.277366\n",
            "Train Epoch: 1 [37760/60000]\tLoss: 0.606921\n"
          ]
        },
        {
          "output_type": "stream",
          "name": "stderr",
          "text": [
            "/tmp/ipython-input-8-2166679198.py:34: UserWarning: Implicit dimension choice for log_softmax has been deprecated. Change the call to include dim=X as an argument.\n",
            "  x = F.log_softmax(x)\n"
          ]
        },
        {
          "output_type": "stream",
          "name": "stdout",
          "text": [
            "Train Epoch: 1 [38400/60000]\tLoss: 0.756931\n",
            "Train Epoch: 1 [39040/60000]\tLoss: 0.432017\n",
            "Train Epoch: 1 [39680/60000]\tLoss: 1.074010\n",
            "Train Epoch: 1 [40320/60000]\tLoss: 0.903096\n",
            "Train Epoch: 1 [40960/60000]\tLoss: 0.846968\n"
          ]
        },
        {
          "output_type": "stream",
          "name": "stderr",
          "text": [
            "/tmp/ipython-input-8-2166679198.py:34: UserWarning: Implicit dimension choice for log_softmax has been deprecated. Change the call to include dim=X as an argument.\n",
            "  x = F.log_softmax(x)\n"
          ]
        },
        {
          "output_type": "stream",
          "name": "stdout",
          "text": [
            "Train Epoch: 1 [41600/60000]\tLoss: 0.610911\n",
            "Train Epoch: 1 [42240/60000]\tLoss: 0.731873\n",
            "Train Epoch: 1 [42880/60000]\tLoss: 0.836367\n",
            "Train Epoch: 1 [43520/60000]\tLoss: 0.781161\n",
            "Train Epoch: 1 [44160/60000]\tLoss: 0.895093\n",
            "Train Epoch: 1 [44800/60000]\tLoss: 0.891677\n"
          ]
        },
        {
          "output_type": "stream",
          "name": "stderr",
          "text": [
            "/tmp/ipython-input-8-2166679198.py:34: UserWarning: Implicit dimension choice for log_softmax has been deprecated. Change the call to include dim=X as an argument.\n",
            "  x = F.log_softmax(x)\n"
          ]
        },
        {
          "output_type": "stream",
          "name": "stdout",
          "text": [
            "Train Epoch: 1 [45440/60000]\tLoss: 1.134401\n",
            "Train Epoch: 1 [46080/60000]\tLoss: 0.882447\n",
            "Train Epoch: 1 [46720/60000]\tLoss: 0.902161\n",
            "Train Epoch: 1 [47360/60000]\tLoss: 0.892220\n"
          ]
        },
        {
          "output_type": "stream",
          "name": "stderr",
          "text": [
            "/tmp/ipython-input-8-2166679198.py:34: UserWarning: Implicit dimension choice for log_softmax has been deprecated. Change the call to include dim=X as an argument.\n",
            "  x = F.log_softmax(x)\n"
          ]
        },
        {
          "output_type": "stream",
          "name": "stdout",
          "text": [
            "Train Epoch: 1 [48000/60000]\tLoss: 0.826790\n",
            "Train Epoch: 1 [48640/60000]\tLoss: 1.251444\n",
            "Train Epoch: 1 [49280/60000]\tLoss: 0.810697\n",
            "Train Epoch: 1 [49920/60000]\tLoss: 1.046345\n",
            "Train Epoch: 1 [50560/60000]\tLoss: 1.057683\n"
          ]
        },
        {
          "output_type": "stream",
          "name": "stderr",
          "text": [
            "/tmp/ipython-input-8-2166679198.py:34: UserWarning: Implicit dimension choice for log_softmax has been deprecated. Change the call to include dim=X as an argument.\n",
            "  x = F.log_softmax(x)\n"
          ]
        },
        {
          "output_type": "stream",
          "name": "stdout",
          "text": [
            "Train Epoch: 1 [51200/60000]\tLoss: 1.080974\n",
            "Train Epoch: 1 [51840/60000]\tLoss: 0.897113\n",
            "Train Epoch: 1 [52480/60000]\tLoss: 0.720627\n",
            "Train Epoch: 1 [53120/60000]\tLoss: 0.850169\n",
            "Train Epoch: 1 [53760/60000]\tLoss: 0.736084\n",
            "Train Epoch: 1 [54400/60000]\tLoss: 0.807604\n"
          ]
        },
        {
          "output_type": "stream",
          "name": "stderr",
          "text": [
            "/tmp/ipython-input-8-2166679198.py:34: UserWarning: Implicit dimension choice for log_softmax has been deprecated. Change the call to include dim=X as an argument.\n",
            "  x = F.log_softmax(x)\n"
          ]
        },
        {
          "output_type": "stream",
          "name": "stdout",
          "text": [
            "Train Epoch: 1 [55040/60000]\tLoss: 1.009773\n",
            "Train Epoch: 1 [55680/60000]\tLoss: 1.087788\n",
            "Train Epoch: 1 [56320/60000]\tLoss: 0.860911\n",
            "Train Epoch: 1 [56960/60000]\tLoss: 0.893264\n",
            "Train Epoch: 1 [57600/60000]\tLoss: 0.780132\n"
          ]
        },
        {
          "output_type": "stream",
          "name": "stderr",
          "text": [
            "/tmp/ipython-input-8-2166679198.py:34: UserWarning: Implicit dimension choice for log_softmax has been deprecated. Change the call to include dim=X as an argument.\n",
            "  x = F.log_softmax(x)\n"
          ]
        },
        {
          "output_type": "stream",
          "name": "stdout",
          "text": [
            "Train Epoch: 1 [58240/60000]\tLoss: 0.727462\n",
            "Train Epoch: 1 [58880/60000]\tLoss: 0.955454\n",
            "Train Epoch: 1 [59520/60000]\tLoss: 1.130731\n"
          ]
        },
        {
          "output_type": "stream",
          "name": "stderr",
          "text": [
            "/usr/local/lib/python3.11/dist-packages/torch/nn/_reduction.py:51: UserWarning: size_average and reduce args will be deprecated, please use reduction='sum' instead.\n",
            "  warnings.warn(warning.format(ret))\n",
            "/tmp/ipython-input-8-2166679198.py:34: UserWarning: Implicit dimension choice for log_softmax has been deprecated. Change the call to include dim=X as an argument.\n",
            "  x = F.log_softmax(x)\n",
            "/usr/local/lib/python3.11/dist-packages/torch/nn/_reduction.py:51: UserWarning: size_average and reduce args will be deprecated, please use reduction='sum' instead.\n",
            "  warnings.warn(warning.format(ret))\n",
            "/tmp/ipython-input-8-2166679198.py:34: UserWarning: Implicit dimension choice for log_softmax has been deprecated. Change the call to include dim=X as an argument.\n",
            "  x = F.log_softmax(x)\n",
            "/usr/local/lib/python3.11/dist-packages/torch/nn/_reduction.py:51: UserWarning: size_average and reduce args will be deprecated, please use reduction='sum' instead.\n",
            "  warnings.warn(warning.format(ret))\n",
            "/tmp/ipython-input-8-2166679198.py:34: UserWarning: Implicit dimension choice for log_softmax has been deprecated. Change the call to include dim=X as an argument.\n",
            "  x = F.log_softmax(x)\n",
            "/usr/local/lib/python3.11/dist-packages/torch/nn/_reduction.py:51: UserWarning: size_average and reduce args will be deprecated, please use reduction='sum' instead.\n",
            "  warnings.warn(warning.format(ret))\n"
          ]
        },
        {
          "output_type": "stream",
          "name": "stdout",
          "text": [
            "\n",
            "Test set: Avg. loss: 0.3587, Accuracy: 9028/10000 (90%)\n",
            "\n",
            "Train Epoch: 2 [0/60000]\tLoss: 0.770405\n"
          ]
        },
        {
          "output_type": "stream",
          "name": "stderr",
          "text": [
            "/tmp/ipython-input-8-2166679198.py:34: UserWarning: Implicit dimension choice for log_softmax has been deprecated. Change the call to include dim=X as an argument.\n",
            "  x = F.log_softmax(x)\n"
          ]
        },
        {
          "output_type": "stream",
          "name": "stdout",
          "text": [
            "Train Epoch: 2 [640/60000]\tLoss: 0.882094\n",
            "Train Epoch: 2 [1280/60000]\tLoss: 1.020015\n",
            "Train Epoch: 2 [1920/60000]\tLoss: 1.001433\n",
            "Train Epoch: 2 [2560/60000]\tLoss: 0.868761\n",
            "Train Epoch: 2 [3200/60000]\tLoss: 0.967548\n",
            "Train Epoch: 2 [3840/60000]\tLoss: 0.923372\n",
            "Train Epoch: 2 [4480/60000]\tLoss: 1.004852\n",
            "Train Epoch: 2 [5120/60000]\tLoss: 0.865758\n"
          ]
        },
        {
          "output_type": "stream",
          "name": "stderr",
          "text": [
            "/tmp/ipython-input-8-2166679198.py:34: UserWarning: Implicit dimension choice for log_softmax has been deprecated. Change the call to include dim=X as an argument.\n",
            "  x = F.log_softmax(x)\n"
          ]
        },
        {
          "output_type": "stream",
          "name": "stdout",
          "text": [
            "Train Epoch: 2 [5760/60000]\tLoss: 0.996503\n",
            "Train Epoch: 2 [6400/60000]\tLoss: 0.811080\n"
          ]
        },
        {
          "output_type": "stream",
          "name": "stderr",
          "text": [
            "/tmp/ipython-input-8-2166679198.py:34: UserWarning: Implicit dimension choice for log_softmax has been deprecated. Change the call to include dim=X as an argument.\n",
            "  x = F.log_softmax(x)\n"
          ]
        },
        {
          "output_type": "stream",
          "name": "stdout",
          "text": [
            "Train Epoch: 2 [7040/60000]\tLoss: 1.009212\n",
            "Train Epoch: 2 [7680/60000]\tLoss: 1.179332\n",
            "Train Epoch: 2 [8320/60000]\tLoss: 0.716913\n",
            "Train Epoch: 2 [8960/60000]\tLoss: 1.069445\n",
            "Train Epoch: 2 [9600/60000]\tLoss: 0.828547\n"
          ]
        },
        {
          "output_type": "stream",
          "name": "stderr",
          "text": [
            "/tmp/ipython-input-8-2166679198.py:34: UserWarning: Implicit dimension choice for log_softmax has been deprecated. Change the call to include dim=X as an argument.\n",
            "  x = F.log_softmax(x)\n"
          ]
        },
        {
          "output_type": "stream",
          "name": "stdout",
          "text": [
            "Train Epoch: 2 [10240/60000]\tLoss: 0.980560\n",
            "Train Epoch: 2 [10880/60000]\tLoss: 0.838564\n",
            "Train Epoch: 2 [11520/60000]\tLoss: 0.809389\n",
            "Train Epoch: 2 [12160/60000]\tLoss: 0.935626\n",
            "Train Epoch: 2 [12800/60000]\tLoss: 0.662665\n",
            "Train Epoch: 2 [13440/60000]\tLoss: 0.728664\n",
            "Train Epoch: 2 [14080/60000]\tLoss: 0.943179\n",
            "Train Epoch: 2 [14720/60000]\tLoss: 0.939074\n",
            "Train Epoch: 2 [15360/60000]\tLoss: 1.013667\n"
          ]
        },
        {
          "output_type": "stream",
          "name": "stderr",
          "text": [
            "/tmp/ipython-input-8-2166679198.py:34: UserWarning: Implicit dimension choice for log_softmax has been deprecated. Change the call to include dim=X as an argument.\n",
            "  x = F.log_softmax(x)\n"
          ]
        },
        {
          "output_type": "stream",
          "name": "stdout",
          "text": [
            "Train Epoch: 2 [16000/60000]\tLoss: 1.069479\n"
          ]
        },
        {
          "output_type": "stream",
          "name": "stderr",
          "text": [
            "/tmp/ipython-input-8-2166679198.py:34: UserWarning: Implicit dimension choice for log_softmax has been deprecated. Change the call to include dim=X as an argument.\n",
            "  x = F.log_softmax(x)\n"
          ]
        },
        {
          "output_type": "stream",
          "name": "stdout",
          "text": [
            "Train Epoch: 2 [16640/60000]\tLoss: 0.725219\n",
            "Train Epoch: 2 [17280/60000]\tLoss: 0.902498\n",
            "Train Epoch: 2 [17920/60000]\tLoss: 0.956478\n",
            "Train Epoch: 2 [18560/60000]\tLoss: 0.833954\n",
            "Train Epoch: 2 [19200/60000]\tLoss: 1.004178\n"
          ]
        },
        {
          "output_type": "stream",
          "name": "stderr",
          "text": [
            "/tmp/ipython-input-8-2166679198.py:34: UserWarning: Implicit dimension choice for log_softmax has been deprecated. Change the call to include dim=X as an argument.\n",
            "  x = F.log_softmax(x)\n"
          ]
        },
        {
          "output_type": "stream",
          "name": "stdout",
          "text": [
            "Train Epoch: 2 [19840/60000]\tLoss: 0.886304\n",
            "Train Epoch: 2 [20480/60000]\tLoss: 1.135451\n",
            "Train Epoch: 2 [21120/60000]\tLoss: 0.917220\n",
            "Train Epoch: 2 [21760/60000]\tLoss: 0.948633\n",
            "Train Epoch: 2 [22400/60000]\tLoss: 0.973406\n",
            "Train Epoch: 2 [23040/60000]\tLoss: 0.984467\n"
          ]
        },
        {
          "output_type": "stream",
          "name": "stderr",
          "text": [
            "/tmp/ipython-input-8-2166679198.py:34: UserWarning: Implicit dimension choice for log_softmax has been deprecated. Change the call to include dim=X as an argument.\n",
            "  x = F.log_softmax(x)\n"
          ]
        },
        {
          "output_type": "stream",
          "name": "stdout",
          "text": [
            "Train Epoch: 2 [23680/60000]\tLoss: 1.130440\n",
            "Train Epoch: 2 [24320/60000]\tLoss: 0.730764\n",
            "Train Epoch: 2 [24960/60000]\tLoss: 0.727745\n",
            "Train Epoch: 2 [25600/60000]\tLoss: 0.925080\n"
          ]
        },
        {
          "output_type": "stream",
          "name": "stderr",
          "text": [
            "/tmp/ipython-input-8-2166679198.py:34: UserWarning: Implicit dimension choice for log_softmax has been deprecated. Change the call to include dim=X as an argument.\n",
            "  x = F.log_softmax(x)\n"
          ]
        },
        {
          "output_type": "stream",
          "name": "stdout",
          "text": [
            "Train Epoch: 2 [26240/60000]\tLoss: 0.911501\n",
            "Train Epoch: 2 [26880/60000]\tLoss: 0.700662\n",
            "Train Epoch: 2 [27520/60000]\tLoss: 0.748305\n",
            "Train Epoch: 2 [28160/60000]\tLoss: 0.608069\n",
            "Train Epoch: 2 [28800/60000]\tLoss: 0.929443\n"
          ]
        },
        {
          "output_type": "stream",
          "name": "stderr",
          "text": [
            "/tmp/ipython-input-8-2166679198.py:34: UserWarning: Implicit dimension choice for log_softmax has been deprecated. Change the call to include dim=X as an argument.\n",
            "  x = F.log_softmax(x)\n"
          ]
        },
        {
          "output_type": "stream",
          "name": "stdout",
          "text": [
            "Train Epoch: 2 [29440/60000]\tLoss: 0.788952\n",
            "Train Epoch: 2 [30080/60000]\tLoss: 0.739866\n",
            "Train Epoch: 2 [30720/60000]\tLoss: 0.881520\n",
            "Train Epoch: 2 [31360/60000]\tLoss: 0.766200\n",
            "Train Epoch: 2 [32000/60000]\tLoss: 0.896208\n",
            "Train Epoch: 2 [32640/60000]\tLoss: 0.770983\n",
            "Train Epoch: 2 [33280/60000]\tLoss: 0.996667\n",
            "Train Epoch: 2 [33920/60000]\tLoss: 0.671137\n"
          ]
        },
        {
          "output_type": "stream",
          "name": "stderr",
          "text": [
            "/tmp/ipython-input-8-2166679198.py:34: UserWarning: Implicit dimension choice for log_softmax has been deprecated. Change the call to include dim=X as an argument.\n",
            "  x = F.log_softmax(x)\n"
          ]
        },
        {
          "output_type": "stream",
          "name": "stdout",
          "text": [
            "Train Epoch: 2 [34560/60000]\tLoss: 0.677703\n"
          ]
        },
        {
          "output_type": "stream",
          "name": "stderr",
          "text": [
            "/tmp/ipython-input-8-2166679198.py:34: UserWarning: Implicit dimension choice for log_softmax has been deprecated. Change the call to include dim=X as an argument.\n",
            "  x = F.log_softmax(x)\n"
          ]
        },
        {
          "output_type": "stream",
          "name": "stdout",
          "text": [
            "Train Epoch: 2 [35200/60000]\tLoss: 0.910486\n",
            "Train Epoch: 2 [35840/60000]\tLoss: 1.025198\n",
            "Train Epoch: 2 [36480/60000]\tLoss: 0.859403\n"
          ]
        },
        {
          "output_type": "stream",
          "name": "stderr",
          "text": [
            "/tmp/ipython-input-8-2166679198.py:34: UserWarning: Implicit dimension choice for log_softmax has been deprecated. Change the call to include dim=X as an argument.\n",
            "  x = F.log_softmax(x)\n"
          ]
        },
        {
          "output_type": "stream",
          "name": "stdout",
          "text": [
            "Train Epoch: 2 [37120/60000]\tLoss: 0.857758\n",
            "Train Epoch: 2 [37760/60000]\tLoss: 0.790459\n",
            "Train Epoch: 2 [38400/60000]\tLoss: 0.902215\n",
            "Train Epoch: 2 [39040/60000]\tLoss: 0.905455\n",
            "Train Epoch: 2 [39680/60000]\tLoss: 0.865312\n",
            "Train Epoch: 2 [40320/60000]\tLoss: 0.887854\n",
            "Train Epoch: 2 [40960/60000]\tLoss: 0.768353\n",
            "Train Epoch: 2 [41600/60000]\tLoss: 0.802332\n",
            "Train Epoch: 2 [42240/60000]\tLoss: 0.899253\n"
          ]
        },
        {
          "output_type": "stream",
          "name": "stderr",
          "text": [
            "/tmp/ipython-input-8-2166679198.py:34: UserWarning: Implicit dimension choice for log_softmax has been deprecated. Change the call to include dim=X as an argument.\n",
            "  x = F.log_softmax(x)\n",
            "/tmp/ipython-input-8-2166679198.py:34: UserWarning: Implicit dimension choice for log_softmax has been deprecated. Change the call to include dim=X as an argument.\n",
            "  x = F.log_softmax(x)\n"
          ]
        },
        {
          "output_type": "stream",
          "name": "stdout",
          "text": [
            "Train Epoch: 2 [42880/60000]\tLoss: 0.823116\n",
            "Train Epoch: 2 [43520/60000]\tLoss: 0.608874\n",
            "Train Epoch: 2 [44160/60000]\tLoss: 0.788249\n",
            "Train Epoch: 2 [44800/60000]\tLoss: 0.703049\n",
            "Train Epoch: 2 [45440/60000]\tLoss: 0.850035\n"
          ]
        },
        {
          "output_type": "stream",
          "name": "stderr",
          "text": [
            "/tmp/ipython-input-8-2166679198.py:34: UserWarning: Implicit dimension choice for log_softmax has been deprecated. Change the call to include dim=X as an argument.\n",
            "  x = F.log_softmax(x)\n"
          ]
        },
        {
          "output_type": "stream",
          "name": "stdout",
          "text": [
            "Train Epoch: 2 [46080/60000]\tLoss: 0.796633\n",
            "Train Epoch: 2 [46720/60000]\tLoss: 0.880445\n",
            "Train Epoch: 2 [47360/60000]\tLoss: 0.894998\n",
            "Train Epoch: 2 [48000/60000]\tLoss: 0.703733\n",
            "Train Epoch: 2 [48640/60000]\tLoss: 0.697174\n",
            "Train Epoch: 2 [49280/60000]\tLoss: 0.906089\n",
            "Train Epoch: 2 [49920/60000]\tLoss: 0.704504\n",
            "Train Epoch: 2 [50560/60000]\tLoss: 0.860448\n",
            "Train Epoch: 2 [51200/60000]\tLoss: 1.139420\n"
          ]
        },
        {
          "output_type": "stream",
          "name": "stderr",
          "text": [
            "/tmp/ipython-input-8-2166679198.py:34: UserWarning: Implicit dimension choice for log_softmax has been deprecated. Change the call to include dim=X as an argument.\n",
            "  x = F.log_softmax(x)\n"
          ]
        },
        {
          "output_type": "stream",
          "name": "stdout",
          "text": [
            "Train Epoch: 2 [51840/60000]\tLoss: 0.834159\n",
            "Train Epoch: 2 [52480/60000]\tLoss: 0.861920\n",
            "Train Epoch: 2 [53120/60000]\tLoss: 0.811219\n",
            "Train Epoch: 2 [53760/60000]\tLoss: 0.695547\n"
          ]
        },
        {
          "output_type": "stream",
          "name": "stderr",
          "text": [
            "/tmp/ipython-input-8-2166679198.py:34: UserWarning: Implicit dimension choice for log_softmax has been deprecated. Change the call to include dim=X as an argument.\n",
            "  x = F.log_softmax(x)\n"
          ]
        },
        {
          "output_type": "stream",
          "name": "stdout",
          "text": [
            "Train Epoch: 2 [54400/60000]\tLoss: 1.015781\n",
            "Train Epoch: 2 [55040/60000]\tLoss: 0.930183\n"
          ]
        },
        {
          "output_type": "stream",
          "name": "stderr",
          "text": [
            "/tmp/ipython-input-8-2166679198.py:34: UserWarning: Implicit dimension choice for log_softmax has been deprecated. Change the call to include dim=X as an argument.\n",
            "  x = F.log_softmax(x)\n"
          ]
        },
        {
          "output_type": "stream",
          "name": "stdout",
          "text": [
            "Train Epoch: 2 [55680/60000]\tLoss: 0.638751\n",
            "Train Epoch: 2 [56320/60000]\tLoss: 0.767860\n",
            "Train Epoch: 2 [56960/60000]\tLoss: 0.721728\n",
            "Train Epoch: 2 [57600/60000]\tLoss: 0.873067\n",
            "Train Epoch: 2 [58240/60000]\tLoss: 0.691665\n",
            "Train Epoch: 2 [58880/60000]\tLoss: 0.754814\n",
            "Train Epoch: 2 [59520/60000]\tLoss: 0.674450\n"
          ]
        },
        {
          "output_type": "stream",
          "name": "stderr",
          "text": [
            "/tmp/ipython-input-8-2166679198.py:34: UserWarning: Implicit dimension choice for log_softmax has been deprecated. Change the call to include dim=X as an argument.\n",
            "  x = F.log_softmax(x)\n",
            "/usr/local/lib/python3.11/dist-packages/torch/nn/_reduction.py:51: UserWarning: size_average and reduce args will be deprecated, please use reduction='sum' instead.\n",
            "  warnings.warn(warning.format(ret))\n",
            "/tmp/ipython-input-8-2166679198.py:34: UserWarning: Implicit dimension choice for log_softmax has been deprecated. Change the call to include dim=X as an argument.\n",
            "  x = F.log_softmax(x)\n",
            "/usr/local/lib/python3.11/dist-packages/torch/nn/_reduction.py:51: UserWarning: size_average and reduce args will be deprecated, please use reduction='sum' instead.\n",
            "  warnings.warn(warning.format(ret))\n",
            "/tmp/ipython-input-8-2166679198.py:34: UserWarning: Implicit dimension choice for log_softmax has been deprecated. Change the call to include dim=X as an argument.\n",
            "  x = F.log_softmax(x)\n",
            "/usr/local/lib/python3.11/dist-packages/torch/nn/_reduction.py:51: UserWarning: size_average and reduce args will be deprecated, please use reduction='sum' instead.\n",
            "  warnings.warn(warning.format(ret))\n",
            "/tmp/ipython-input-8-2166679198.py:34: UserWarning: Implicit dimension choice for log_softmax has been deprecated. Change the call to include dim=X as an argument.\n",
            "  x = F.log_softmax(x)\n",
            "/usr/local/lib/python3.11/dist-packages/torch/nn/_reduction.py:51: UserWarning: size_average and reduce args will be deprecated, please use reduction='sum' instead.\n",
            "  warnings.warn(warning.format(ret))\n"
          ]
        },
        {
          "output_type": "stream",
          "name": "stdout",
          "text": [
            "\n",
            "Test set: Avg. loss: 0.3240, Accuracy: 9094/10000 (91%)\n",
            "\n",
            "Train Epoch: 3 [0/60000]\tLoss: 0.890220\n",
            "Train Epoch: 3 [640/60000]\tLoss: 0.844367\n",
            "Train Epoch: 3 [1280/60000]\tLoss: 0.787862\n",
            "Train Epoch: 3 [1920/60000]\tLoss: 0.935889\n",
            "Train Epoch: 3 [2560/60000]\tLoss: 0.881958\n",
            "Train Epoch: 3 [3200/60000]\tLoss: 0.622617\n",
            "Train Epoch: 3 [3840/60000]\tLoss: 1.009119\n"
          ]
        },
        {
          "output_type": "stream",
          "name": "stderr",
          "text": [
            "/tmp/ipython-input-8-2166679198.py:34: UserWarning: Implicit dimension choice for log_softmax has been deprecated. Change the call to include dim=X as an argument.\n",
            "  x = F.log_softmax(x)\n"
          ]
        },
        {
          "output_type": "stream",
          "name": "stdout",
          "text": [
            "Train Epoch: 3 [4480/60000]\tLoss: 0.930434\n",
            "Train Epoch: 3 [5120/60000]\tLoss: 0.818387\n"
          ]
        },
        {
          "output_type": "stream",
          "name": "stderr",
          "text": [
            "/tmp/ipython-input-8-2166679198.py:34: UserWarning: Implicit dimension choice for log_softmax has been deprecated. Change the call to include dim=X as an argument.\n",
            "  x = F.log_softmax(x)\n"
          ]
        },
        {
          "output_type": "stream",
          "name": "stdout",
          "text": [
            "Train Epoch: 3 [5760/60000]\tLoss: 1.222380\n",
            "Train Epoch: 3 [6400/60000]\tLoss: 0.751656\n",
            "Train Epoch: 3 [7040/60000]\tLoss: 0.772235\n"
          ]
        },
        {
          "output_type": "stream",
          "name": "stderr",
          "text": [
            "/tmp/ipython-input-8-2166679198.py:34: UserWarning: Implicit dimension choice for log_softmax has been deprecated. Change the call to include dim=X as an argument.\n",
            "  x = F.log_softmax(x)\n"
          ]
        },
        {
          "output_type": "stream",
          "name": "stdout",
          "text": [
            "Train Epoch: 3 [7680/60000]\tLoss: 0.929369\n",
            "Train Epoch: 3 [8320/60000]\tLoss: 0.890309\n",
            "Train Epoch: 3 [8960/60000]\tLoss: 0.801984\n",
            "Train Epoch: 3 [9600/60000]\tLoss: 0.829728\n",
            "Train Epoch: 3 [10240/60000]\tLoss: 0.829449\n",
            "Train Epoch: 3 [10880/60000]\tLoss: 0.803920\n",
            "Train Epoch: 3 [11520/60000]\tLoss: 0.714975\n",
            "Train Epoch: 3 [12160/60000]\tLoss: 0.718302\n"
          ]
        },
        {
          "output_type": "stream",
          "name": "stderr",
          "text": [
            "/tmp/ipython-input-8-2166679198.py:34: UserWarning: Implicit dimension choice for log_softmax has been deprecated. Change the call to include dim=X as an argument.\n",
            "  x = F.log_softmax(x)\n"
          ]
        },
        {
          "output_type": "stream",
          "name": "stdout",
          "text": [
            "Train Epoch: 3 [12800/60000]\tLoss: 0.890312\n"
          ]
        },
        {
          "output_type": "stream",
          "name": "stderr",
          "text": [
            "/tmp/ipython-input-8-2166679198.py:34: UserWarning: Implicit dimension choice for log_softmax has been deprecated. Change the call to include dim=X as an argument.\n",
            "  x = F.log_softmax(x)\n"
          ]
        },
        {
          "output_type": "stream",
          "name": "stdout",
          "text": [
            "Train Epoch: 3 [13440/60000]\tLoss: 0.859512\n",
            "Train Epoch: 3 [14080/60000]\tLoss: 0.751558\n",
            "Train Epoch: 3 [14720/60000]\tLoss: 1.095695\n",
            "Train Epoch: 3 [15360/60000]\tLoss: 1.129446\n",
            "Train Epoch: 3 [16000/60000]\tLoss: 0.783627\n"
          ]
        },
        {
          "output_type": "stream",
          "name": "stderr",
          "text": [
            "/tmp/ipython-input-8-2166679198.py:34: UserWarning: Implicit dimension choice for log_softmax has been deprecated. Change the call to include dim=X as an argument.\n",
            "  x = F.log_softmax(x)\n"
          ]
        },
        {
          "output_type": "stream",
          "name": "stdout",
          "text": [
            "Train Epoch: 3 [16640/60000]\tLoss: 0.938225\n",
            "Train Epoch: 3 [17280/60000]\tLoss: 0.880519\n",
            "Train Epoch: 3 [17920/60000]\tLoss: 0.629901\n",
            "Train Epoch: 3 [18560/60000]\tLoss: 0.828489\n",
            "Train Epoch: 3 [19200/60000]\tLoss: 0.798738\n",
            "Train Epoch: 3 [19840/60000]\tLoss: 0.691797\n",
            "Train Epoch: 3 [20480/60000]\tLoss: 0.873068\n",
            "Train Epoch: 3 [21120/60000]\tLoss: 0.892148\n"
          ]
        },
        {
          "output_type": "stream",
          "name": "stderr",
          "text": [
            "/tmp/ipython-input-8-2166679198.py:34: UserWarning: Implicit dimension choice for log_softmax has been deprecated. Change the call to include dim=X as an argument.\n",
            "  x = F.log_softmax(x)\n"
          ]
        },
        {
          "output_type": "stream",
          "name": "stdout",
          "text": [
            "Train Epoch: 3 [21760/60000]\tLoss: 1.108686\n",
            "Train Epoch: 3 [22400/60000]\tLoss: 0.759301\n"
          ]
        },
        {
          "output_type": "stream",
          "name": "stderr",
          "text": [
            "/tmp/ipython-input-8-2166679198.py:34: UserWarning: Implicit dimension choice for log_softmax has been deprecated. Change the call to include dim=X as an argument.\n",
            "  x = F.log_softmax(x)\n"
          ]
        },
        {
          "output_type": "stream",
          "name": "stdout",
          "text": [
            "Train Epoch: 3 [23040/60000]\tLoss: 0.717421\n",
            "Train Epoch: 3 [23680/60000]\tLoss: 0.870833\n",
            "Train Epoch: 3 [24320/60000]\tLoss: 0.889541\n",
            "Train Epoch: 3 [24960/60000]\tLoss: 0.461379\n"
          ]
        },
        {
          "output_type": "stream",
          "name": "stderr",
          "text": [
            "/tmp/ipython-input-8-2166679198.py:34: UserWarning: Implicit dimension choice for log_softmax has been deprecated. Change the call to include dim=X as an argument.\n",
            "  x = F.log_softmax(x)\n"
          ]
        },
        {
          "output_type": "stream",
          "name": "stdout",
          "text": [
            "Train Epoch: 3 [25600/60000]\tLoss: 1.009430\n",
            "Train Epoch: 3 [26240/60000]\tLoss: 0.678664\n",
            "Train Epoch: 3 [26880/60000]\tLoss: 0.742059\n",
            "Train Epoch: 3 [27520/60000]\tLoss: 0.713715\n",
            "Train Epoch: 3 [28160/60000]\tLoss: 0.583229\n",
            "Train Epoch: 3 [28800/60000]\tLoss: 0.795568\n",
            "Train Epoch: 3 [29440/60000]\tLoss: 0.751313\n",
            "Train Epoch: 3 [30080/60000]\tLoss: 0.978872\n",
            "Train Epoch: 3 [30720/60000]\tLoss: 0.968913\n"
          ]
        },
        {
          "output_type": "stream",
          "name": "stderr",
          "text": [
            "/tmp/ipython-input-8-2166679198.py:34: UserWarning: Implicit dimension choice for log_softmax has been deprecated. Change the call to include dim=X as an argument.\n",
            "  x = F.log_softmax(x)\n"
          ]
        },
        {
          "output_type": "stream",
          "name": "stdout",
          "text": [
            "Train Epoch: 3 [31360/60000]\tLoss: 0.398630\n"
          ]
        },
        {
          "output_type": "stream",
          "name": "stderr",
          "text": [
            "/tmp/ipython-input-8-2166679198.py:34: UserWarning: Implicit dimension choice for log_softmax has been deprecated. Change the call to include dim=X as an argument.\n",
            "  x = F.log_softmax(x)\n"
          ]
        },
        {
          "output_type": "stream",
          "name": "stdout",
          "text": [
            "Train Epoch: 3 [32000/60000]\tLoss: 0.785651\n",
            "Train Epoch: 3 [32640/60000]\tLoss: 0.708460\n",
            "Train Epoch: 3 [33280/60000]\tLoss: 0.702438\n",
            "Train Epoch: 3 [33920/60000]\tLoss: 0.932430\n"
          ]
        },
        {
          "output_type": "stream",
          "name": "stderr",
          "text": [
            "/tmp/ipython-input-8-2166679198.py:34: UserWarning: Implicit dimension choice for log_softmax has been deprecated. Change the call to include dim=X as an argument.\n",
            "  x = F.log_softmax(x)\n"
          ]
        },
        {
          "output_type": "stream",
          "name": "stdout",
          "text": [
            "Train Epoch: 3 [34560/60000]\tLoss: 0.741596\n",
            "Train Epoch: 3 [35200/60000]\tLoss: 0.877965\n",
            "Train Epoch: 3 [35840/60000]\tLoss: 0.827555\n",
            "Train Epoch: 3 [36480/60000]\tLoss: 0.683451\n",
            "Train Epoch: 3 [37120/60000]\tLoss: 0.990118\n"
          ]
        },
        {
          "output_type": "stream",
          "name": "stderr",
          "text": [
            "/tmp/ipython-input-8-2166679198.py:34: UserWarning: Implicit dimension choice for log_softmax has been deprecated. Change the call to include dim=X as an argument.\n",
            "  x = F.log_softmax(x)\n"
          ]
        },
        {
          "output_type": "stream",
          "name": "stdout",
          "text": [
            "Train Epoch: 3 [37760/60000]\tLoss: 0.639798\n",
            "Train Epoch: 3 [38400/60000]\tLoss: 0.813751\n",
            "Train Epoch: 3 [39040/60000]\tLoss: 0.948313\n",
            "Train Epoch: 3 [39680/60000]\tLoss: 0.773821\n",
            "Train Epoch: 3 [40320/60000]\tLoss: 1.006445\n",
            "Train Epoch: 3 [40960/60000]\tLoss: 0.852829\n"
          ]
        },
        {
          "output_type": "stream",
          "name": "stderr",
          "text": [
            "/tmp/ipython-input-8-2166679198.py:34: UserWarning: Implicit dimension choice for log_softmax has been deprecated. Change the call to include dim=X as an argument.\n",
            "  x = F.log_softmax(x)\n"
          ]
        },
        {
          "output_type": "stream",
          "name": "stdout",
          "text": [
            "Train Epoch: 3 [41600/60000]\tLoss: 1.079090\n",
            "Train Epoch: 3 [42240/60000]\tLoss: 0.552037\n",
            "Train Epoch: 3 [42880/60000]\tLoss: 0.817837\n"
          ]
        },
        {
          "output_type": "stream",
          "name": "stderr",
          "text": [
            "/tmp/ipython-input-8-2166679198.py:34: UserWarning: Implicit dimension choice for log_softmax has been deprecated. Change the call to include dim=X as an argument.\n",
            "  x = F.log_softmax(x)\n"
          ]
        },
        {
          "output_type": "stream",
          "name": "stdout",
          "text": [
            "Train Epoch: 3 [43520/60000]\tLoss: 0.903971\n",
            "Train Epoch: 3 [44160/60000]\tLoss: 0.787516\n",
            "Train Epoch: 3 [44800/60000]\tLoss: 0.749015\n",
            "Train Epoch: 3 [45440/60000]\tLoss: 0.925525\n",
            "Train Epoch: 3 [46080/60000]\tLoss: 0.970309\n",
            "Train Epoch: 3 [46720/60000]\tLoss: 0.902749\n",
            "Train Epoch: 3 [47360/60000]\tLoss: 0.768127\n"
          ]
        },
        {
          "output_type": "stream",
          "name": "stderr",
          "text": [
            "/tmp/ipython-input-8-2166679198.py:34: UserWarning: Implicit dimension choice for log_softmax has been deprecated. Change the call to include dim=X as an argument.\n",
            "  x = F.log_softmax(x)\n"
          ]
        },
        {
          "output_type": "stream",
          "name": "stdout",
          "text": [
            "Train Epoch: 3 [48000/60000]\tLoss: 0.914702\n"
          ]
        },
        {
          "output_type": "stream",
          "name": "stderr",
          "text": [
            "/tmp/ipython-input-8-2166679198.py:34: UserWarning: Implicit dimension choice for log_softmax has been deprecated. Change the call to include dim=X as an argument.\n",
            "  x = F.log_softmax(x)\n"
          ]
        },
        {
          "output_type": "stream",
          "name": "stdout",
          "text": [
            "Train Epoch: 3 [48640/60000]\tLoss: 0.803172\n",
            "Train Epoch: 3 [49280/60000]\tLoss: 0.731773\n",
            "Train Epoch: 3 [49920/60000]\tLoss: 0.684157\n",
            "Train Epoch: 3 [50560/60000]\tLoss: 0.883716\n",
            "Train Epoch: 3 [51200/60000]\tLoss: 1.232603\n"
          ]
        },
        {
          "output_type": "stream",
          "name": "stderr",
          "text": [
            "/tmp/ipython-input-8-2166679198.py:34: UserWarning: Implicit dimension choice for log_softmax has been deprecated. Change the call to include dim=X as an argument.\n",
            "  x = F.log_softmax(x)\n"
          ]
        },
        {
          "output_type": "stream",
          "name": "stdout",
          "text": [
            "Train Epoch: 3 [51840/60000]\tLoss: 0.737346\n",
            "Train Epoch: 3 [52480/60000]\tLoss: 0.767148\n",
            "Train Epoch: 3 [53120/60000]\tLoss: 0.666706\n",
            "Train Epoch: 3 [53760/60000]\tLoss: 0.969822\n",
            "Train Epoch: 3 [54400/60000]\tLoss: 0.854937\n",
            "Train Epoch: 3 [55040/60000]\tLoss: 0.817218\n",
            "Train Epoch: 3 [55680/60000]\tLoss: 0.781144\n",
            "Train Epoch: 3 [56320/60000]\tLoss: 1.078197\n",
            "Train Epoch: 3 [56960/60000]\tLoss: 0.912293\n"
          ]
        },
        {
          "output_type": "stream",
          "name": "stderr",
          "text": [
            "/tmp/ipython-input-8-2166679198.py:34: UserWarning: Implicit dimension choice for log_softmax has been deprecated. Change the call to include dim=X as an argument.\n",
            "  x = F.log_softmax(x)\n"
          ]
        },
        {
          "output_type": "stream",
          "name": "stdout",
          "text": [
            "Train Epoch: 3 [57600/60000]\tLoss: 0.992497\n"
          ]
        },
        {
          "output_type": "stream",
          "name": "stderr",
          "text": [
            "/tmp/ipython-input-8-2166679198.py:34: UserWarning: Implicit dimension choice for log_softmax has been deprecated. Change the call to include dim=X as an argument.\n",
            "  x = F.log_softmax(x)\n"
          ]
        },
        {
          "output_type": "stream",
          "name": "stdout",
          "text": [
            "Train Epoch: 3 [58240/60000]\tLoss: 0.844637\n",
            "Train Epoch: 3 [58880/60000]\tLoss: 0.937225\n",
            "Train Epoch: 3 [59520/60000]\tLoss: 0.605143\n"
          ]
        },
        {
          "output_type": "stream",
          "name": "stderr",
          "text": [
            "/usr/local/lib/python3.11/dist-packages/torch/nn/_reduction.py:51: UserWarning: size_average and reduce args will be deprecated, please use reduction='sum' instead.\n",
            "  warnings.warn(warning.format(ret))\n",
            "/tmp/ipython-input-8-2166679198.py:34: UserWarning: Implicit dimension choice for log_softmax has been deprecated. Change the call to include dim=X as an argument.\n",
            "  x = F.log_softmax(x)\n",
            "/usr/local/lib/python3.11/dist-packages/torch/nn/_reduction.py:51: UserWarning: size_average and reduce args will be deprecated, please use reduction='sum' instead.\n",
            "  warnings.warn(warning.format(ret))\n"
          ]
        },
        {
          "output_type": "stream",
          "name": "stdout",
          "text": [
            "\n",
            "Test set: Avg. loss: 0.3120, Accuracy: 9133/10000 (91%)\n",
            "\n"
          ]
        },
        {
          "output_type": "stream",
          "name": "stderr",
          "text": [
            "/tmp/ipython-input-8-2166679198.py:34: UserWarning: Implicit dimension choice for log_softmax has been deprecated. Change the call to include dim=X as an argument.\n",
            "  x = F.log_softmax(x)\n",
            "/usr/local/lib/python3.11/dist-packages/torch/nn/_reduction.py:51: UserWarning: size_average and reduce args will be deprecated, please use reduction='sum' instead.\n",
            "  warnings.warn(warning.format(ret))\n"
          ]
        }
      ]
    },
    {
      "cell_type": "code",
      "source": [
        "# Run network on data we got before and show predictions\n",
        "output = model(example_data)\n",
        "\n",
        "fig = plt.figure()\n",
        "for i in range(10):\n",
        "  plt.subplot(5,5,i+1)\n",
        "  plt.tight_layout()\n",
        "  plt.imshow(example_data[i][0], cmap='gray', interpolation='none')\n",
        "  plt.title(\"Prediction: {}\".format(\n",
        "    output.data.max(1, keepdim=True)[1][i].item()))\n",
        "  plt.xticks([])\n",
        "  plt.yticks([])\n",
        "plt.show()"
      ],
      "metadata": {
        "id": "o7fRUAy9Se1B",
        "colab": {
          "base_uri": "https://localhost:8080/",
          "height": 242
        },
        "outputId": "f962fc6c-5195-4641-c443-c8cd4b9e3a6e"
      },
      "execution_count": 16,
      "outputs": [
        {
          "output_type": "stream",
          "name": "stderr",
          "text": [
            "/tmp/ipython-input-8-2166679198.py:34: UserWarning: Implicit dimension choice for log_softmax has been deprecated. Change the call to include dim=X as an argument.\n",
            "  x = F.log_softmax(x)\n"
          ]
        },
        {
          "output_type": "display_data",
          "data": {
            "text/plain": [
              "<Figure size 640x480 with 10 Axes>"
            ],
            "image/png": "[encoded data removed]"
          },
          "metadata": {}
        }
      ]
    }
  ]
}