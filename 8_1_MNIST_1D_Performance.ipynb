{
  "cells": [
    {
      "cell_type": "markdown",
      "metadata": {
        "id": "view-in-github",
        "colab_type": "text"
      },
      "source": [
        "<a href=\"https://colab.research.google.com/github/MASDXI/NF-846-Deep-Learning/blob/main/8_1_MNIST_1D_Performance.ipynb\" target=\"_parent\"><img src=\"https://colab.research.google.com/assets/colab-badge.svg\" alt=\"Open In Colab\"/></a>"
      ]
    },
    {
      "cell_type": "markdown",
      "metadata": {
        "id": "L6chybAVFJW2"
      },
      "source": [
        "# **Notebook 8.1: MNIST_1D_Performance**\n",
        "\n",
        "This notebook runs a simple neural network on the MNIST1D dataset as in figure 8.2a. It uses code from https://github.com/greydanus/mnist1d to generate the data.\n",
        "\n",
        "Work through the cells below, running each cell in turn. In various places you will see the words \"TODO\". Follow the instructions at these places and make predictions about what is going to happen or write code to complete the functions.\n",
        "\n",
        "Contact me at udlbookmail@gmail.com if you find any mistakes or have any suggestions."
      ]
    },
    {
      "cell_type": "code",
      "execution_count": 1,
      "metadata": {
        "id": "ifVjS4cTOqKz",
        "colab": {
          "base_uri": "https://localhost:8080/"
        },
        "outputId": "e3564f19-8f10-47b2-8786-b964229b5bd7"
      },
      "outputs": [
        {
          "output_type": "stream",
          "name": "stdout",
          "text": [
            "Collecting git+https://github.com/greydanus/mnist1d\n",
            "  Cloning https://github.com/greydanus/mnist1d to /tmp/pip-req-build-m73nz8_u\n",
            "  Running command git clone --filter=blob:none --quiet https://github.com/greydanus/mnist1d /tmp/pip-req-build-m73nz8_u\n",
            "  Resolved https://github.com/greydanus/mnist1d to commit 7878d96082abd200c546a07a4101fa90b30fdf7e\n",
            "  Installing build dependencies ... \u001b[?25l\u001b[?25hdone\n",
            "  Getting requirements to build wheel ... \u001b[?25l\u001b[?25hdone\n",
            "  Preparing metadata (pyproject.toml) ... \u001b[?25l\u001b[?25hdone\n",
            "Requirement already satisfied: requests in /usr/local/lib/python3.11/dist-packages (from mnist1d==0.0.2.post16) (2.32.3)\n",
            "Requirement already satisfied: numpy in /usr/local/lib/python3.11/dist-packages (from mnist1d==0.0.2.post16) (2.0.2)\n",
            "Requirement already satisfied: matplotlib in /usr/local/lib/python3.11/dist-packages (from mnist1d==0.0.2.post16) (3.10.0)\n",
            "Requirement already satisfied: scipy in /usr/local/lib/python3.11/dist-packages (from mnist1d==0.0.2.post16) (1.15.3)\n",
            "Requirement already satisfied: contourpy>=1.0.1 in /usr/local/lib/python3.11/dist-packages (from matplotlib->mnist1d==0.0.2.post16) (1.3.2)\n",
            "Requirement already satisfied: cycler>=0.10 in /usr/local/lib/python3.11/dist-packages (from matplotlib->mnist1d==0.0.2.post16) (0.12.1)\n",
            "Requirement already satisfied: fonttools>=4.22.0 in /usr/local/lib/python3.11/dist-packages (from matplotlib->mnist1d==0.0.2.post16) (4.58.4)\n",
            "Requirement already satisfied: kiwisolver>=1.3.1 in /usr/local/lib/python3.11/dist-packages (from matplotlib->mnist1d==0.0.2.post16) (1.4.8)\n",
            "Requirement already satisfied: packaging>=20.0 in /usr/local/lib/python3.11/dist-packages (from matplotlib->mnist1d==0.0.2.post16) (24.2)\n",
            "Requirement already satisfied: pillow>=8 in /usr/local/lib/python3.11/dist-packages (from matplotlib->mnist1d==0.0.2.post16) (11.2.1)\n",
            "Requirement already satisfied: pyparsing>=2.3.1 in /usr/local/lib/python3.11/dist-packages (from matplotlib->mnist1d==0.0.2.post16) (3.2.3)\n",
            "Requirement already satisfied: python-dateutil>=2.7 in /usr/local/lib/python3.11/dist-packages (from matplotlib->mnist1d==0.0.2.post16) (2.9.0.post0)\n",
            "Requirement already satisfied: charset-normalizer<4,>=2 in /usr/local/lib/python3.11/dist-packages (from requests->mnist1d==0.0.2.post16) (3.4.2)\n",
            "Requirement already satisfied: idna<4,>=2.5 in /usr/local/lib/python3.11/dist-packages (from requests->mnist1d==0.0.2.post16) (3.10)\n",
            "Requirement already satisfied: urllib3<3,>=1.21.1 in /usr/local/lib/python3.11/dist-packages (from requests->mnist1d==0.0.2.post16) (2.4.0)\n",
            "Requirement already satisfied: certifi>=2017.4.17 in /usr/local/lib/python3.11/dist-packages (from requests->mnist1d==0.0.2.post16) (2025.6.15)\n",
            "Requirement already satisfied: six>=1.5 in /usr/local/lib/python3.11/dist-packages (from python-dateutil>=2.7->matplotlib->mnist1d==0.0.2.post16) (1.17.0)\n",
            "Building wheels for collected packages: mnist1d\n",
            "  Building wheel for mnist1d (pyproject.toml) ... \u001b[?25l\u001b[?25hdone\n",
            "  Created wheel for mnist1d: filename=mnist1d-0.0.2.post16-py3-none-any.whl size=14665 sha256=6c949a9983eb697ccce93f1deaa10084620cc6fe7893a14ebaf1acd5d3c2664e\n",
            "  Stored in directory: /tmp/pip-ephem-wheel-cache-04vwl4aj/wheels/d6/38/42/3d2112bc7d915f6195254ac85eb761d922d1b18f52817aa8e2\n",
            "Successfully built mnist1d\n",
            "Installing collected packages: mnist1d\n",
            "Successfully installed mnist1d-0.0.2.post16\n"
          ]
        }
      ],
      "source": [
        "# Run this if you're in a Colab to install MNIST 1D repository\n",
        "%pip install git+https://github.com/greydanus/mnist1d"
      ]
    },
    {
      "cell_type": "code",
      "execution_count": 2,
      "metadata": {
        "id": "qyE7G1StPIqO"
      },
      "outputs": [],
      "source": [
        "import torch, torch.nn as nn\n",
        "from torch.utils.data import TensorDataset, DataLoader\n",
        "from torch.optim.lr_scheduler import StepLR\n",
        "import numpy as np\n",
        "import matplotlib.pyplot as plt\n",
        "import mnist1d"
      ]
    },
    {
      "cell_type": "markdown",
      "metadata": {
        "id": "F7LNq72SP6jO"
      },
      "source": [
        "Let's generate a training and test dataset using the MNIST1D code.  The dataset gets saved as a .pkl file so it doesn't have to be regenerated each time."
      ]
    },
    {
      "cell_type": "code",
      "execution_count": 3,
      "metadata": {
        "id": "YLxf7dJfPaqw",
        "colab": {
          "base_uri": "https://localhost:8080/"
        },
        "outputId": "9a95d17e-c8b3-46eb-f7c2-75f394052014"
      },
      "outputs": [
        {
          "output_type": "stream",
          "name": "stdout",
          "text": [
            "Did or could not load data from ./mnist1d_data.pkl. Rebuilding dataset...\n",
            "Examples in training set: 4000\n",
            "Examples in test set: 1000\n",
            "Length of each example: 40\n"
          ]
        }
      ],
      "source": [
        "args = mnist1d.data.get_dataset_args()\n",
        "data = mnist1d.data.get_dataset(args, path='./mnist1d_data.pkl', download=False, regenerate=False)\n",
        "\n",
        "# The training and test input and outputs are in\n",
        "# data['x'], data['y'], data['x_test'], and data['y_test']\n",
        "print(\"Examples in training set: {}\".format(len(data['y'])))\n",
        "print(\"Examples in test set: {}\".format(len(data['y_test'])))\n",
        "print(\"Length of each example: {}\".format(data['x'].shape[-1]))"
      ]
    },
    {
      "cell_type": "code",
      "execution_count": 4,
      "metadata": {
        "id": "FxaB5vc0uevl",
        "colab": {
          "base_uri": "https://localhost:8080/"
        },
        "outputId": "a5f75d60-3491-4c62-edc4-dc32768bd80a"
      },
      "outputs": [
        {
          "output_type": "execute_result",
          "data": {
            "text/plain": [
              "Sequential(\n",
              "  (0): Linear(in_features=40, out_features=300, bias=True)\n",
              "  (1): ReLU()\n",
              "  (2): Linear(in_features=300, out_features=300, bias=True)\n",
              "  (3): ReLU()\n",
              "  (4): Linear(in_features=300, out_features=10, bias=True)\n",
              ")"
            ]
          },
          "metadata": {},
          "execution_count": 4
        }
      ],
      "source": [
        "D_i = 40    # Input dimensions\n",
        "D_k = 300   # Hidden dimensions\n",
        "D_o = 10    # Output dimensions\n",
        "# TODO\n",
        "# Define a model with two hidden layers of size 100\n",
        "# And ReLU activations between them\n",
        "# Replace this line (see Figure 7.8 of book for help):\n",
        "model = nn.Sequential(\n",
        "  nn.Linear(D_i, D_k),\n",
        "  nn.ReLU(),\n",
        "  nn.Linear(D_k, D_k),\n",
        "  nn.ReLU(),\n",
        "  nn.Linear(D_k, D_o)\n",
        ")\n",
        "\n",
        "\n",
        "def weights_init(layer_in):\n",
        "  # TODO\n",
        "  # Initialize the parameters with He initialization\n",
        "  # Replace this line (see figure 7.8 of book for help)\n",
        "  if isinstance(layer_in, nn.Linear):\n",
        "    nn.init.kaiming_normal_(layer_in.weight)\n",
        "    layer_in.bias.data.fill_(0.0)\n",
        "\n",
        "# Call the function you just defined\n",
        "model.apply(weights_init)"
      ]
    },
    {
      "cell_type": "code",
      "execution_count": 6,
      "metadata": {
        "id": "_rX6N3VyyQTY",
        "colab": {
          "base_uri": "https://localhost:8080/"
        },
        "outputId": "406cdd94-9b6d-4f98-f111-004638ac8093"
      },
      "outputs": [
        {
          "output_type": "stream",
          "name": "stdout",
          "text": [
            "Epoch     0, train loss 1.396070, train error 49.80,  test loss 1.499256, test error 57.90\n",
            "Epoch     1, train loss 1.061404, train error 36.58,  test loss 1.299258, test error 50.10\n",
            "Epoch     2, train loss 0.856751, train error 29.45,  test loss 1.241252, test error 47.40\n",
            "Epoch     3, train loss 0.681020, train error 23.10,  test loss 1.144936, test error 44.40\n",
            "Epoch     4, train loss 0.551124, train error 17.12,  test loss 1.094330, test error 41.10\n",
            "Epoch     5, train loss 0.432583, train error 12.78,  test loss 1.051144, test error 39.20\n",
            "Epoch     6, train loss 0.302319, train error 7.80,  test loss 1.031893, test error 39.50\n",
            "Epoch     7, train loss 0.241525, train error 5.62,  test loss 1.029188, test error 37.70\n",
            "Epoch     8, train loss 0.161838, train error 2.32,  test loss 1.032587, test error 36.30\n",
            "Epoch     9, train loss 0.147154, train error 3.07,  test loss 1.056596, test error 35.40\n",
            "Epoch    10, train loss 0.079955, train error 0.25,  test loss 1.023269, test error 35.40\n",
            "Epoch    11, train loss 0.060476, train error 0.05,  test loss 1.033458, test error 35.20\n",
            "Epoch    12, train loss 0.049900, train error 0.00,  test loss 1.038329, test error 34.70\n",
            "Epoch    13, train loss 0.045552, train error 0.00,  test loss 1.067654, test error 34.10\n",
            "Epoch    14, train loss 0.037856, train error 0.00,  test loss 1.079502, test error 35.10\n",
            "Epoch    15, train loss 0.033779, train error 0.00,  test loss 1.085098, test error 34.80\n",
            "Epoch    16, train loss 0.030665, train error 0.00,  test loss 1.092520, test error 34.60\n",
            "Epoch    17, train loss 0.027804, train error 0.00,  test loss 1.121554, test error 35.30\n",
            "Epoch    18, train loss 0.025371, train error 0.00,  test loss 1.121993, test error 34.90\n",
            "Epoch    19, train loss 0.023174, train error 0.00,  test loss 1.127150, test error 35.10\n",
            "Epoch    20, train loss 0.021961, train error 0.00,  test loss 1.132512, test error 34.90\n",
            "Epoch    21, train loss 0.021143, train error 0.00,  test loss 1.138041, test error 34.70\n",
            "Epoch    22, train loss 0.020404, train error 0.00,  test loss 1.144449, test error 34.80\n",
            "Epoch    23, train loss 0.019761, train error 0.00,  test loss 1.147958, test error 34.70\n",
            "Epoch    24, train loss 0.019156, train error 0.00,  test loss 1.151883, test error 34.80\n",
            "Epoch    25, train loss 0.018523, train error 0.00,  test loss 1.155487, test error 35.10\n",
            "Epoch    26, train loss 0.017965, train error 0.00,  test loss 1.158208, test error 34.40\n",
            "Epoch    27, train loss 0.017343, train error 0.00,  test loss 1.162532, test error 34.60\n",
            "Epoch    28, train loss 0.016830, train error 0.00,  test loss 1.167867, test error 34.40\n",
            "Epoch    29, train loss 0.016379, train error 0.00,  test loss 1.169368, test error 34.60\n",
            "Epoch    30, train loss 0.016075, train error 0.00,  test loss 1.172595, test error 34.90\n",
            "Epoch    31, train loss 0.015843, train error 0.00,  test loss 1.174997, test error 34.80\n",
            "Epoch    32, train loss 0.015633, train error 0.00,  test loss 1.175961, test error 34.80\n",
            "Epoch    33, train loss 0.015423, train error 0.00,  test loss 1.178289, test error 34.70\n",
            "Epoch    34, train loss 0.015220, train error 0.00,  test loss 1.180302, test error 34.70\n",
            "Epoch    35, train loss 0.015004, train error 0.00,  test loss 1.181582, test error 34.70\n",
            "Epoch    36, train loss 0.014804, train error 0.00,  test loss 1.182705, test error 34.60\n",
            "Epoch    37, train loss 0.014620, train error 0.00,  test loss 1.184919, test error 34.80\n",
            "Epoch    38, train loss 0.014431, train error 0.00,  test loss 1.187507, test error 34.70\n",
            "Epoch    39, train loss 0.014263, train error 0.00,  test loss 1.188825, test error 34.40\n",
            "Epoch    40, train loss 0.014141, train error 0.00,  test loss 1.189597, test error 34.80\n",
            "Epoch    41, train loss 0.014049, train error 0.00,  test loss 1.190239, test error 34.70\n",
            "Epoch    42, train loss 0.013962, train error 0.00,  test loss 1.191439, test error 34.60\n",
            "Epoch    43, train loss 0.013874, train error 0.00,  test loss 1.192353, test error 34.50\n",
            "Epoch    44, train loss 0.013788, train error 0.00,  test loss 1.193352, test error 34.80\n",
            "Epoch    45, train loss 0.013705, train error 0.00,  test loss 1.193268, test error 34.60\n",
            "Epoch    46, train loss 0.013619, train error 0.00,  test loss 1.194493, test error 34.60\n",
            "Epoch    47, train loss 0.013536, train error 0.00,  test loss 1.194906, test error 34.50\n",
            "Epoch    48, train loss 0.013456, train error 0.00,  test loss 1.196187, test error 34.50\n",
            "Epoch    49, train loss 0.013373, train error 0.00,  test loss 1.197080, test error 34.50\n"
          ]
        }
      ],
      "source": [
        "# choose cross entropy loss function (equation 5.24)\n",
        "loss_function = torch.nn.CrossEntropyLoss()\n",
        "# construct SGD optimizer and initialize learning rate and momentum\n",
        "optimizer = torch.optim.SGD(model.parameters(), lr = 0.05, momentum=0.9)\n",
        "# object that decreases learning rate by half every 10 epochs\n",
        "scheduler = StepLR(optimizer, step_size=10, gamma=0.5)\n",
        "x_train = torch.tensor(data['x'].astype('float32'))\n",
        "y_train = torch.tensor(data['y'].transpose().astype('int64'))\n",
        "x_test= torch.tensor(data['x_test'].astype('float32'))\n",
        "y_test = torch.tensor(data['y_test'].astype('int64'))\n",
        "\n",
        "# load the data into a class that creates the batches\n",
        "data_loader = DataLoader(TensorDataset(x_train,y_train), batch_size=100, shuffle=True, worker_init_fn=np.random.seed(1))\n",
        "\n",
        "# Initialize model weights\n",
        "model.apply(weights_init)\n",
        "\n",
        "# loop over the dataset n_epoch times\n",
        "n_epoch = 50\n",
        "# store the loss and the % correct at each epoch\n",
        "losses_train = np.zeros((n_epoch))\n",
        "errors_train = np.zeros((n_epoch))\n",
        "losses_test = np.zeros((n_epoch))\n",
        "errors_test = np.zeros((n_epoch))\n",
        "\n",
        "for epoch in range(n_epoch):\n",
        "  # loop over batches\n",
        "  for i, batch in enumerate(data_loader):\n",
        "    # retrieve inputs and labels for this batch\n",
        "    x_batch, y_batch = batch\n",
        "    # zero the parameter gradients\n",
        "    optimizer.zero_grad()\n",
        "    # forward pass -- calculate model output\n",
        "    pred = model(x_batch)\n",
        "    # compute the loss\n",
        "    loss = loss_function(pred, y_batch)\n",
        "    # backward pass\n",
        "    loss.backward()\n",
        "    # SGD update\n",
        "    optimizer.step()\n",
        "\n",
        "  # Run whole dataset to get statistics -- normally wouldn't do this\n",
        "  pred_train = model(x_train)\n",
        "  pred_test = model(x_test)\n",
        "  _, predicted_train_class = torch.max(pred_train.data, 1)\n",
        "  _, predicted_test_class = torch.max(pred_test.data, 1)\n",
        "  errors_train[epoch] = 100 - 100 * (predicted_train_class == y_train).float().sum() / len(y_train)\n",
        "  errors_test[epoch]= 100 - 100 * (predicted_test_class == y_test).float().sum() / len(y_test)\n",
        "  losses_train[epoch] = loss_function(pred_train, y_train).item()\n",
        "  losses_test[epoch]= loss_function(pred_test, y_test).item()\n",
        "  print(f'Epoch {epoch:5d}, train loss {losses_train[epoch]:.6f}, train error {errors_train[epoch]:3.2f},  test loss {losses_test[epoch]:.6f}, test error {errors_test[epoch]:3.2f}')\n",
        "\n",
        "  # tell scheduler to consider updating learning rate\n",
        "  scheduler.step()"
      ]
    },
    {
      "cell_type": "code",
      "execution_count": 7,
      "metadata": {
        "id": "yI-l6kA_EH9G",
        "colab": {
          "base_uri": "https://localhost:8080/",
          "height": 927
        },
        "outputId": "84477e59-8209-4d2e-9c29-339068586379"
      },
      "outputs": [
        {
          "output_type": "display_data",
          "data": {
            "text/plain": [
              "<Figure size 640x480 with 1 Axes>"
            ],
            "image/png": "[encoded data removed]"
          },
          "metadata": {}
        },
        {
          "output_type": "display_data",
          "data": {
            "text/plain": [
              "<Figure size 640x480 with 1 Axes>"
            ],
            "image/png": "[encoded data removed]"
          },
          "metadata": {}
        }
      ],
      "source": [
        "# Plot the results\n",
        "fig, ax = plt.subplots()\n",
        "ax.plot(errors_train,'r-',label='train')\n",
        "ax.plot(errors_test,'b-',label='test')\n",
        "ax.set_ylim(0,100); ax.set_xlim(0,n_epoch)\n",
        "ax.set_xlabel('Epoch'); ax.set_ylabel('Error')\n",
        "ax.set_title('TrainError %3.2f, Test Error %3.2f'%(errors_train[-1],errors_test[-1]))\n",
        "ax.legend()\n",
        "plt.show()\n",
        "\n",
        "# Plot the results\n",
        "fig, ax = plt.subplots()\n",
        "ax.plot(losses_train,'r-',label='train')\n",
        "ax.plot(losses_test,'b-',label='test')\n",
        "ax.set_xlim(0,n_epoch)\n",
        "ax.set_xlabel('Epoch'); ax.set_ylabel('Loss')\n",
        "ax.set_title('Train loss %3.2f, Test loss %3.2f'%(losses_train[-1],losses_test[-1]))\n",
        "ax.legend()\n",
        "plt.show()"
      ]
    },
    {
      "cell_type": "markdown",
      "metadata": {
        "id": "q-yT6re6GZS4"
      },
      "source": [
        "**TODO**\n",
        "\n",
        "Play with the model -- try changing the number of layers, hidden units, learning rate, batch size, momentum or anything else you like.  See if you can improve the test results.\n",
        "\n",
        "Is it a good idea to optimize the hyperparameters in this way?  Will the final result be a good estimate of the true test performance?"
      ]
    }
  ],
  "metadata": {
    "accelerator": "GPU",
    "colab": {
      "gpuType": "T4",
      "provenance": [],
      "include_colab_link": true
    },
    "kernelspec": {
      "display_name": "Python 3",
      "name": "python3"
    },
    "language_info": {
      "name": "python"
    }
  },
  "nbformat": 4,
  "nbformat_minor": 0
}